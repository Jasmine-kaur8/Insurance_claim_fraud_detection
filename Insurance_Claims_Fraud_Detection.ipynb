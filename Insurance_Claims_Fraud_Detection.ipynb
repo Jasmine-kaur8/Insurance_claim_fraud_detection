{
  "nbformat": 4,
  "nbformat_minor": 0,
  "metadata": {
    "colab": {
      "name": "Insurance Claims- Fraud Detection",
      "provenance": [],
      "collapsed_sections": [],
      "authorship_tag": "ABX9TyMv8b9dqwRzX7Lw402mBps4",
      "include_colab_link": true
    },
    "kernelspec": {
      "name": "python3",
      "display_name": "Python 3"
    },
    "language_info": {
      "name": "python"
    }
  },
  "cells": [
    {
      "cell_type": "markdown",
      "metadata": {
        "id": "view-in-github",
        "colab_type": "text"
      },
      "source": [
        "<a href=\"https://colab.research.google.com/github/Jasmine-kaur8/Insurance_claim_fraud_detection/blob/main/Insurance_Claims_Fraud_Detection.ipynb\" target=\"_parent\"><img src=\"https://colab.research.google.com/assets/colab-badge.svg\" alt=\"Open In Colab\"/></a>"
      ]
    },
    {
      "cell_type": "code",
      "metadata": {
        "colab": {
          "resources": {
            "http://localhost:8080/nbextensions/google.colab/files.js": {
              "data": "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",
              "ok": true,
              "headers": [
                [
                  "content-type",
                  "application/javascript"
                ]
              ],
              "status": 200,
              "status_text": ""
            }
          },
          "base_uri": "https://localhost:8080/",
          "height": 73
        },
        "id": "P6p5Td48hbvc",
        "outputId": "c766ceb9-c77c-49b9-ed5e-6b6f772457c1"
      },
      "source": [
        "from google.colab import files\n",
        "uploaded = files.upload()"
      ],
      "execution_count": 130,
      "outputs": [
        {
          "output_type": "display_data",
          "data": {
            "text/html": [
              "\n",
              "     <input type=\"file\" id=\"files-5fdccf0c-8433-4e85-9e56-3d500c1788af\" name=\"files[]\" multiple disabled\n",
              "        style=\"border:none\" />\n",
              "     <output id=\"result-5fdccf0c-8433-4e85-9e56-3d500c1788af\">\n",
              "      Upload widget is only available when the cell has been executed in the\n",
              "      current browser session. Please rerun this cell to enable.\n",
              "      </output>\n",
              "      <script src=\"/nbextensions/google.colab/files.js\"></script> "
            ],
            "text/plain": [
              "<IPython.core.display.HTML object>"
            ]
          },
          "metadata": {}
        },
        {
          "output_type": "stream",
          "name": "stdout",
          "text": [
            "Saving Automobile_insurance_fraud(project).csv to Automobile_insurance_fraud(project) (4).csv\n"
          ]
        }
      ]
    },
    {
      "cell_type": "markdown",
      "metadata": {
        "id": "Q4peWB2lwuV9"
      },
      "source": [
        "Importing the data"
      ]
    },
    {
      "cell_type": "code",
      "metadata": {
        "id": "CiiIaSceh9jB"
      },
      "source": [
        "import pandas as pd\n",
        "import numpy as np\n",
        "import matplotlib.pyplot as plt\n",
        "import seaborn as sns\n",
        "\n",
        "from sklearn.ensemble import RandomForestClassifier, GradientBoostingClassifier\n",
        "from sklearn.model_selection import train_test_split, cross_validate\n",
        "from sklearn.model_selection import GridSearchCV\n",
        "from sklearn.model_selection import KFold\n",
        "from sklearn.neighbors import KNeighborsRegressor\n",
        "from sklearn.tree import DecisionTreeClassifier\n",
        "from sklearn.neighbors import KNeighborsClassifier\n",
        "from sklearn.metrics import accuracy_score, precision_score, recall_score, f1_score,classification_report\n",
        "from sklearn.linear_model import LogisticRegression\n",
        "\n",
        "\n",
        "import warnings\n",
        "warnings.filterwarnings('always')\n",
        "warnings.filterwarnings('ignore')\n"
      ],
      "execution_count": 171,
      "outputs": []
    },
    {
      "cell_type": "markdown",
      "metadata": {
        "id": "Q2mO9qM-wwTG"
      },
      "source": [
        "Importing the libraries"
      ]
    },
    {
      "cell_type": "code",
      "metadata": {
        "colab": {
          "base_uri": "https://localhost:8080/",
          "height": 288
        },
        "id": "ppQXB6HVi_ck",
        "outputId": "c503bff7-4121-477a-b328-7661de67e372"
      },
      "source": [
        "data = pd.read_csv('Automobile_insurance_fraud(project).csv')\n",
        "data.head()"
      ],
      "execution_count": 132,
      "outputs": [
        {
          "output_type": "execute_result",
          "data": {
            "text/html": [
              "<div>\n",
              "<style scoped>\n",
              "    .dataframe tbody tr th:only-of-type {\n",
              "        vertical-align: middle;\n",
              "    }\n",
              "\n",
              "    .dataframe tbody tr th {\n",
              "        vertical-align: top;\n",
              "    }\n",
              "\n",
              "    .dataframe thead th {\n",
              "        text-align: right;\n",
              "    }\n",
              "</style>\n",
              "<table border=\"1\" class=\"dataframe\">\n",
              "  <thead>\n",
              "    <tr style=\"text-align: right;\">\n",
              "      <th></th>\n",
              "      <th>months_as_customer</th>\n",
              "      <th>age</th>\n",
              "      <th>policy_number</th>\n",
              "      <th>policy_bind_date</th>\n",
              "      <th>policy_state</th>\n",
              "      <th>policy_csl</th>\n",
              "      <th>policy_deductable</th>\n",
              "      <th>policy_annual_premium</th>\n",
              "      <th>umbrella_limit</th>\n",
              "      <th>insured_zip</th>\n",
              "      <th>insured_sex</th>\n",
              "      <th>insured_education_level</th>\n",
              "      <th>insured_occupation</th>\n",
              "      <th>insured_hobbies</th>\n",
              "      <th>insured_relationship</th>\n",
              "      <th>capital-gains</th>\n",
              "      <th>capital-loss</th>\n",
              "      <th>incident_date</th>\n",
              "      <th>incident_type</th>\n",
              "      <th>collision_type</th>\n",
              "      <th>incident_severity</th>\n",
              "      <th>authorities_contacted</th>\n",
              "      <th>incident_state</th>\n",
              "      <th>incident_city</th>\n",
              "      <th>incident_location</th>\n",
              "      <th>incident_hour_of_the_day</th>\n",
              "      <th>number_of_vehicles_involved</th>\n",
              "      <th>property_damage</th>\n",
              "      <th>bodily_injuries</th>\n",
              "      <th>witnesses</th>\n",
              "      <th>police_report_available</th>\n",
              "      <th>total_claim_amount</th>\n",
              "      <th>injury_claim</th>\n",
              "      <th>property_claim</th>\n",
              "      <th>vehicle_claim</th>\n",
              "      <th>auto_make</th>\n",
              "      <th>auto_model</th>\n",
              "      <th>auto_year</th>\n",
              "      <th>fraud_reported</th>\n",
              "      <th>_c39</th>\n",
              "    </tr>\n",
              "  </thead>\n",
              "  <tbody>\n",
              "    <tr>\n",
              "      <th>0</th>\n",
              "      <td>328</td>\n",
              "      <td>48</td>\n",
              "      <td>521585</td>\n",
              "      <td>17-10-2014</td>\n",
              "      <td>OH</td>\n",
              "      <td>250/500</td>\n",
              "      <td>1000</td>\n",
              "      <td>1406.91</td>\n",
              "      <td>0</td>\n",
              "      <td>466132</td>\n",
              "      <td>MALE</td>\n",
              "      <td>MD</td>\n",
              "      <td>craft-repair</td>\n",
              "      <td>sleeping</td>\n",
              "      <td>husband</td>\n",
              "      <td>53300</td>\n",
              "      <td>0</td>\n",
              "      <td>25-01-2015</td>\n",
              "      <td>Single Vehicle Collision</td>\n",
              "      <td>Side Collision</td>\n",
              "      <td>Major Damage</td>\n",
              "      <td>Police</td>\n",
              "      <td>SC</td>\n",
              "      <td>Columbus</td>\n",
              "      <td>9935 4th Drive</td>\n",
              "      <td>5</td>\n",
              "      <td>1</td>\n",
              "      <td>YES</td>\n",
              "      <td>1</td>\n",
              "      <td>2</td>\n",
              "      <td>YES</td>\n",
              "      <td>71610</td>\n",
              "      <td>6510</td>\n",
              "      <td>13020</td>\n",
              "      <td>52080</td>\n",
              "      <td>Saab</td>\n",
              "      <td>92x</td>\n",
              "      <td>2004</td>\n",
              "      <td>Y</td>\n",
              "      <td>NaN</td>\n",
              "    </tr>\n",
              "    <tr>\n",
              "      <th>1</th>\n",
              "      <td>228</td>\n",
              "      <td>42</td>\n",
              "      <td>342868</td>\n",
              "      <td>27-06-2006</td>\n",
              "      <td>IN</td>\n",
              "      <td>250/500</td>\n",
              "      <td>2000</td>\n",
              "      <td>1197.22</td>\n",
              "      <td>5000000</td>\n",
              "      <td>468176</td>\n",
              "      <td>MALE</td>\n",
              "      <td>MD</td>\n",
              "      <td>machine-op-inspct</td>\n",
              "      <td>reading</td>\n",
              "      <td>other-relative</td>\n",
              "      <td>0</td>\n",
              "      <td>0</td>\n",
              "      <td>21-01-2015</td>\n",
              "      <td>Vehicle Theft</td>\n",
              "      <td>?</td>\n",
              "      <td>Minor Damage</td>\n",
              "      <td>Police</td>\n",
              "      <td>VA</td>\n",
              "      <td>Riverwood</td>\n",
              "      <td>6608 MLK Hwy</td>\n",
              "      <td>8</td>\n",
              "      <td>1</td>\n",
              "      <td>?</td>\n",
              "      <td>0</td>\n",
              "      <td>0</td>\n",
              "      <td>?</td>\n",
              "      <td>5070</td>\n",
              "      <td>780</td>\n",
              "      <td>780</td>\n",
              "      <td>3510</td>\n",
              "      <td>Mercedes</td>\n",
              "      <td>E400</td>\n",
              "      <td>2007</td>\n",
              "      <td>Y</td>\n",
              "      <td>NaN</td>\n",
              "    </tr>\n",
              "    <tr>\n",
              "      <th>2</th>\n",
              "      <td>134</td>\n",
              "      <td>29</td>\n",
              "      <td>687698</td>\n",
              "      <td>06-09-2000</td>\n",
              "      <td>OH</td>\n",
              "      <td>100/300</td>\n",
              "      <td>2000</td>\n",
              "      <td>1413.14</td>\n",
              "      <td>5000000</td>\n",
              "      <td>430632</td>\n",
              "      <td>FEMALE</td>\n",
              "      <td>PhD</td>\n",
              "      <td>sales</td>\n",
              "      <td>board-games</td>\n",
              "      <td>own-child</td>\n",
              "      <td>35100</td>\n",
              "      <td>0</td>\n",
              "      <td>22-02-2015</td>\n",
              "      <td>Multi-vehicle Collision</td>\n",
              "      <td>Rear Collision</td>\n",
              "      <td>Minor Damage</td>\n",
              "      <td>Police</td>\n",
              "      <td>NY</td>\n",
              "      <td>Columbus</td>\n",
              "      <td>7121 Francis Lane</td>\n",
              "      <td>7</td>\n",
              "      <td>3</td>\n",
              "      <td>NO</td>\n",
              "      <td>2</td>\n",
              "      <td>3</td>\n",
              "      <td>NO</td>\n",
              "      <td>34650</td>\n",
              "      <td>7700</td>\n",
              "      <td>3850</td>\n",
              "      <td>23100</td>\n",
              "      <td>Dodge</td>\n",
              "      <td>RAM</td>\n",
              "      <td>2007</td>\n",
              "      <td>N</td>\n",
              "      <td>NaN</td>\n",
              "    </tr>\n",
              "    <tr>\n",
              "      <th>3</th>\n",
              "      <td>256</td>\n",
              "      <td>41</td>\n",
              "      <td>227811</td>\n",
              "      <td>25-05-1990</td>\n",
              "      <td>IL</td>\n",
              "      <td>250/500</td>\n",
              "      <td>2000</td>\n",
              "      <td>1415.74</td>\n",
              "      <td>6000000</td>\n",
              "      <td>608117</td>\n",
              "      <td>FEMALE</td>\n",
              "      <td>PhD</td>\n",
              "      <td>armed-forces</td>\n",
              "      <td>board-games</td>\n",
              "      <td>unmarried</td>\n",
              "      <td>48900</td>\n",
              "      <td>-62400</td>\n",
              "      <td>10-01-2015</td>\n",
              "      <td>Single Vehicle Collision</td>\n",
              "      <td>Front Collision</td>\n",
              "      <td>Major Damage</td>\n",
              "      <td>Police</td>\n",
              "      <td>OH</td>\n",
              "      <td>Arlington</td>\n",
              "      <td>6956 Maple Drive</td>\n",
              "      <td>5</td>\n",
              "      <td>1</td>\n",
              "      <td>?</td>\n",
              "      <td>1</td>\n",
              "      <td>2</td>\n",
              "      <td>NO</td>\n",
              "      <td>63400</td>\n",
              "      <td>6340</td>\n",
              "      <td>6340</td>\n",
              "      <td>50720</td>\n",
              "      <td>Chevrolet</td>\n",
              "      <td>Tahoe</td>\n",
              "      <td>2014</td>\n",
              "      <td>Y</td>\n",
              "      <td>NaN</td>\n",
              "    </tr>\n",
              "    <tr>\n",
              "      <th>4</th>\n",
              "      <td>228</td>\n",
              "      <td>44</td>\n",
              "      <td>367455</td>\n",
              "      <td>06-06-2014</td>\n",
              "      <td>IL</td>\n",
              "      <td>500/1000</td>\n",
              "      <td>1000</td>\n",
              "      <td>1583.91</td>\n",
              "      <td>6000000</td>\n",
              "      <td>610706</td>\n",
              "      <td>MALE</td>\n",
              "      <td>Associate</td>\n",
              "      <td>sales</td>\n",
              "      <td>board-games</td>\n",
              "      <td>unmarried</td>\n",
              "      <td>66000</td>\n",
              "      <td>-46000</td>\n",
              "      <td>17-02-2015</td>\n",
              "      <td>Vehicle Theft</td>\n",
              "      <td>?</td>\n",
              "      <td>Minor Damage</td>\n",
              "      <td>None</td>\n",
              "      <td>NY</td>\n",
              "      <td>Arlington</td>\n",
              "      <td>3041 3rd Ave</td>\n",
              "      <td>20</td>\n",
              "      <td>1</td>\n",
              "      <td>NO</td>\n",
              "      <td>0</td>\n",
              "      <td>1</td>\n",
              "      <td>NO</td>\n",
              "      <td>6500</td>\n",
              "      <td>1300</td>\n",
              "      <td>650</td>\n",
              "      <td>4550</td>\n",
              "      <td>Accura</td>\n",
              "      <td>RSX</td>\n",
              "      <td>2009</td>\n",
              "      <td>N</td>\n",
              "      <td>NaN</td>\n",
              "    </tr>\n",
              "  </tbody>\n",
              "</table>\n",
              "</div>"
            ],
            "text/plain": [
              "   months_as_customer  age  policy_number  ... auto_year fraud_reported _c39\n",
              "0                 328   48         521585  ...      2004              Y  NaN\n",
              "1                 228   42         342868  ...      2007              Y  NaN\n",
              "2                 134   29         687698  ...      2007              N  NaN\n",
              "3                 256   41         227811  ...      2014              Y  NaN\n",
              "4                 228   44         367455  ...      2009              N  NaN\n",
              "\n",
              "[5 rows x 40 columns]"
            ]
          },
          "metadata": {},
          "execution_count": 132
        }
      ]
    },
    {
      "cell_type": "markdown",
      "metadata": {
        "id": "5MikG4m_wz-Z"
      },
      "source": [
        "Reaading the data, the target variable is fraud_reported which is a categorical variable thus it is a classification problem"
      ]
    },
    {
      "cell_type": "code",
      "metadata": {
        "colab": {
          "base_uri": "https://localhost:8080/"
        },
        "id": "Xe_OPApvjlDY",
        "outputId": "826acfec-8441-4654-9041-2fb7b2f19025"
      },
      "source": [
        "data.shape"
      ],
      "execution_count": 133,
      "outputs": [
        {
          "output_type": "execute_result",
          "data": {
            "text/plain": [
              "(1000, 40)"
            ]
          },
          "metadata": {},
          "execution_count": 133
        }
      ]
    },
    {
      "cell_type": "markdown",
      "metadata": {
        "id": "wRn7gu1exDTs"
      },
      "source": [
        "The dataset has 1000 rows and 40 columns"
      ]
    },
    {
      "cell_type": "code",
      "metadata": {
        "colab": {
          "base_uri": "https://localhost:8080/"
        },
        "id": "XhngFM7Xj9it",
        "outputId": "5794a6ff-2aa6-43c9-a729-39d8be86be16"
      },
      "source": [
        "data.info()"
      ],
      "execution_count": 134,
      "outputs": [
        {
          "output_type": "stream",
          "name": "stdout",
          "text": [
            "<class 'pandas.core.frame.DataFrame'>\n",
            "RangeIndex: 1000 entries, 0 to 999\n",
            "Data columns (total 40 columns):\n",
            " #   Column                       Non-Null Count  Dtype  \n",
            "---  ------                       --------------  -----  \n",
            " 0   months_as_customer           1000 non-null   int64  \n",
            " 1   age                          1000 non-null   int64  \n",
            " 2   policy_number                1000 non-null   int64  \n",
            " 3   policy_bind_date             1000 non-null   object \n",
            " 4   policy_state                 1000 non-null   object \n",
            " 5   policy_csl                   1000 non-null   object \n",
            " 6   policy_deductable            1000 non-null   int64  \n",
            " 7   policy_annual_premium        1000 non-null   float64\n",
            " 8   umbrella_limit               1000 non-null   int64  \n",
            " 9   insured_zip                  1000 non-null   int64  \n",
            " 10  insured_sex                  1000 non-null   object \n",
            " 11  insured_education_level      1000 non-null   object \n",
            " 12  insured_occupation           1000 non-null   object \n",
            " 13  insured_hobbies              1000 non-null   object \n",
            " 14  insured_relationship         1000 non-null   object \n",
            " 15  capital-gains                1000 non-null   int64  \n",
            " 16  capital-loss                 1000 non-null   int64  \n",
            " 17  incident_date                1000 non-null   object \n",
            " 18  incident_type                1000 non-null   object \n",
            " 19  collision_type               1000 non-null   object \n",
            " 20  incident_severity            1000 non-null   object \n",
            " 21  authorities_contacted        1000 non-null   object \n",
            " 22  incident_state               1000 non-null   object \n",
            " 23  incident_city                1000 non-null   object \n",
            " 24  incident_location            1000 non-null   object \n",
            " 25  incident_hour_of_the_day     1000 non-null   int64  \n",
            " 26  number_of_vehicles_involved  1000 non-null   int64  \n",
            " 27  property_damage              1000 non-null   object \n",
            " 28  bodily_injuries              1000 non-null   int64  \n",
            " 29  witnesses                    1000 non-null   int64  \n",
            " 30  police_report_available      1000 non-null   object \n",
            " 31  total_claim_amount           1000 non-null   int64  \n",
            " 32  injury_claim                 1000 non-null   int64  \n",
            " 33  property_claim               1000 non-null   int64  \n",
            " 34  vehicle_claim                1000 non-null   int64  \n",
            " 35  auto_make                    1000 non-null   object \n",
            " 36  auto_model                   1000 non-null   object \n",
            " 37  auto_year                    1000 non-null   int64  \n",
            " 38  fraud_reported               1000 non-null   object \n",
            " 39  _c39                         0 non-null      float64\n",
            "dtypes: float64(2), int64(17), object(21)\n",
            "memory usage: 312.6+ KB\n"
          ]
        }
      ]
    },
    {
      "cell_type": "markdown",
      "metadata": {
        "id": "9jAnT6qwxKBv"
      },
      "source": [
        "There are some object datatype and some numerical datatype variables. The variable _c39 has no value, it is better to drop this variable."
      ]
    },
    {
      "cell_type": "code",
      "metadata": {
        "colab": {
          "base_uri": "https://localhost:8080/",
          "height": 331
        },
        "id": "xkmIG2WskAwQ",
        "outputId": "58d00e9e-01a5-4417-f80d-4933220ecb80"
      },
      "source": [
        "data.describe()"
      ],
      "execution_count": 135,
      "outputs": [
        {
          "output_type": "execute_result",
          "data": {
            "text/html": [
              "<div>\n",
              "<style scoped>\n",
              "    .dataframe tbody tr th:only-of-type {\n",
              "        vertical-align: middle;\n",
              "    }\n",
              "\n",
              "    .dataframe tbody tr th {\n",
              "        vertical-align: top;\n",
              "    }\n",
              "\n",
              "    .dataframe thead th {\n",
              "        text-align: right;\n",
              "    }\n",
              "</style>\n",
              "<table border=\"1\" class=\"dataframe\">\n",
              "  <thead>\n",
              "    <tr style=\"text-align: right;\">\n",
              "      <th></th>\n",
              "      <th>months_as_customer</th>\n",
              "      <th>age</th>\n",
              "      <th>policy_number</th>\n",
              "      <th>policy_deductable</th>\n",
              "      <th>policy_annual_premium</th>\n",
              "      <th>umbrella_limit</th>\n",
              "      <th>insured_zip</th>\n",
              "      <th>capital-gains</th>\n",
              "      <th>capital-loss</th>\n",
              "      <th>incident_hour_of_the_day</th>\n",
              "      <th>number_of_vehicles_involved</th>\n",
              "      <th>bodily_injuries</th>\n",
              "      <th>witnesses</th>\n",
              "      <th>total_claim_amount</th>\n",
              "      <th>injury_claim</th>\n",
              "      <th>property_claim</th>\n",
              "      <th>vehicle_claim</th>\n",
              "      <th>auto_year</th>\n",
              "      <th>_c39</th>\n",
              "    </tr>\n",
              "  </thead>\n",
              "  <tbody>\n",
              "    <tr>\n",
              "      <th>count</th>\n",
              "      <td>1000.000000</td>\n",
              "      <td>1000.000000</td>\n",
              "      <td>1000.000000</td>\n",
              "      <td>1000.000000</td>\n",
              "      <td>1000.000000</td>\n",
              "      <td>1.000000e+03</td>\n",
              "      <td>1000.000000</td>\n",
              "      <td>1000.000000</td>\n",
              "      <td>1000.000000</td>\n",
              "      <td>1000.000000</td>\n",
              "      <td>1000.00000</td>\n",
              "      <td>1000.000000</td>\n",
              "      <td>1000.000000</td>\n",
              "      <td>1000.00000</td>\n",
              "      <td>1000.000000</td>\n",
              "      <td>1000.000000</td>\n",
              "      <td>1000.000000</td>\n",
              "      <td>1000.000000</td>\n",
              "      <td>0.0</td>\n",
              "    </tr>\n",
              "    <tr>\n",
              "      <th>mean</th>\n",
              "      <td>203.954000</td>\n",
              "      <td>38.948000</td>\n",
              "      <td>546238.648000</td>\n",
              "      <td>1136.000000</td>\n",
              "      <td>1256.406150</td>\n",
              "      <td>1.101000e+06</td>\n",
              "      <td>501214.488000</td>\n",
              "      <td>25126.100000</td>\n",
              "      <td>-26793.700000</td>\n",
              "      <td>11.644000</td>\n",
              "      <td>1.83900</td>\n",
              "      <td>0.992000</td>\n",
              "      <td>1.487000</td>\n",
              "      <td>52761.94000</td>\n",
              "      <td>7433.420000</td>\n",
              "      <td>7399.570000</td>\n",
              "      <td>37928.950000</td>\n",
              "      <td>2005.103000</td>\n",
              "      <td>NaN</td>\n",
              "    </tr>\n",
              "    <tr>\n",
              "      <th>std</th>\n",
              "      <td>115.113174</td>\n",
              "      <td>9.140287</td>\n",
              "      <td>257063.005276</td>\n",
              "      <td>611.864673</td>\n",
              "      <td>244.167395</td>\n",
              "      <td>2.297407e+06</td>\n",
              "      <td>71701.610941</td>\n",
              "      <td>27872.187708</td>\n",
              "      <td>28104.096686</td>\n",
              "      <td>6.951373</td>\n",
              "      <td>1.01888</td>\n",
              "      <td>0.820127</td>\n",
              "      <td>1.111335</td>\n",
              "      <td>26401.53319</td>\n",
              "      <td>4880.951853</td>\n",
              "      <td>4824.726179</td>\n",
              "      <td>18886.252893</td>\n",
              "      <td>6.015861</td>\n",
              "      <td>NaN</td>\n",
              "    </tr>\n",
              "    <tr>\n",
              "      <th>min</th>\n",
              "      <td>0.000000</td>\n",
              "      <td>19.000000</td>\n",
              "      <td>100804.000000</td>\n",
              "      <td>500.000000</td>\n",
              "      <td>433.330000</td>\n",
              "      <td>-1.000000e+06</td>\n",
              "      <td>430104.000000</td>\n",
              "      <td>0.000000</td>\n",
              "      <td>-111100.000000</td>\n",
              "      <td>0.000000</td>\n",
              "      <td>1.00000</td>\n",
              "      <td>0.000000</td>\n",
              "      <td>0.000000</td>\n",
              "      <td>100.00000</td>\n",
              "      <td>0.000000</td>\n",
              "      <td>0.000000</td>\n",
              "      <td>70.000000</td>\n",
              "      <td>1995.000000</td>\n",
              "      <td>NaN</td>\n",
              "    </tr>\n",
              "    <tr>\n",
              "      <th>25%</th>\n",
              "      <td>115.750000</td>\n",
              "      <td>32.000000</td>\n",
              "      <td>335980.250000</td>\n",
              "      <td>500.000000</td>\n",
              "      <td>1089.607500</td>\n",
              "      <td>0.000000e+00</td>\n",
              "      <td>448404.500000</td>\n",
              "      <td>0.000000</td>\n",
              "      <td>-51500.000000</td>\n",
              "      <td>6.000000</td>\n",
              "      <td>1.00000</td>\n",
              "      <td>0.000000</td>\n",
              "      <td>1.000000</td>\n",
              "      <td>41812.50000</td>\n",
              "      <td>4295.000000</td>\n",
              "      <td>4445.000000</td>\n",
              "      <td>30292.500000</td>\n",
              "      <td>2000.000000</td>\n",
              "      <td>NaN</td>\n",
              "    </tr>\n",
              "    <tr>\n",
              "      <th>50%</th>\n",
              "      <td>199.500000</td>\n",
              "      <td>38.000000</td>\n",
              "      <td>533135.000000</td>\n",
              "      <td>1000.000000</td>\n",
              "      <td>1257.200000</td>\n",
              "      <td>0.000000e+00</td>\n",
              "      <td>466445.500000</td>\n",
              "      <td>0.000000</td>\n",
              "      <td>-23250.000000</td>\n",
              "      <td>12.000000</td>\n",
              "      <td>1.00000</td>\n",
              "      <td>1.000000</td>\n",
              "      <td>1.000000</td>\n",
              "      <td>58055.00000</td>\n",
              "      <td>6775.000000</td>\n",
              "      <td>6750.000000</td>\n",
              "      <td>42100.000000</td>\n",
              "      <td>2005.000000</td>\n",
              "      <td>NaN</td>\n",
              "    </tr>\n",
              "    <tr>\n",
              "      <th>75%</th>\n",
              "      <td>276.250000</td>\n",
              "      <td>44.000000</td>\n",
              "      <td>759099.750000</td>\n",
              "      <td>2000.000000</td>\n",
              "      <td>1415.695000</td>\n",
              "      <td>0.000000e+00</td>\n",
              "      <td>603251.000000</td>\n",
              "      <td>51025.000000</td>\n",
              "      <td>0.000000</td>\n",
              "      <td>17.000000</td>\n",
              "      <td>3.00000</td>\n",
              "      <td>2.000000</td>\n",
              "      <td>2.000000</td>\n",
              "      <td>70592.50000</td>\n",
              "      <td>11305.000000</td>\n",
              "      <td>10885.000000</td>\n",
              "      <td>50822.500000</td>\n",
              "      <td>2010.000000</td>\n",
              "      <td>NaN</td>\n",
              "    </tr>\n",
              "    <tr>\n",
              "      <th>max</th>\n",
              "      <td>479.000000</td>\n",
              "      <td>64.000000</td>\n",
              "      <td>999435.000000</td>\n",
              "      <td>2000.000000</td>\n",
              "      <td>2047.590000</td>\n",
              "      <td>1.000000e+07</td>\n",
              "      <td>620962.000000</td>\n",
              "      <td>100500.000000</td>\n",
              "      <td>0.000000</td>\n",
              "      <td>23.000000</td>\n",
              "      <td>4.00000</td>\n",
              "      <td>2.000000</td>\n",
              "      <td>3.000000</td>\n",
              "      <td>114920.00000</td>\n",
              "      <td>21450.000000</td>\n",
              "      <td>23670.000000</td>\n",
              "      <td>79560.000000</td>\n",
              "      <td>2015.000000</td>\n",
              "      <td>NaN</td>\n",
              "    </tr>\n",
              "  </tbody>\n",
              "</table>\n",
              "</div>"
            ],
            "text/plain": [
              "       months_as_customer          age  ...    auto_year  _c39\n",
              "count         1000.000000  1000.000000  ...  1000.000000   0.0\n",
              "mean           203.954000    38.948000  ...  2005.103000   NaN\n",
              "std            115.113174     9.140287  ...     6.015861   NaN\n",
              "min              0.000000    19.000000  ...  1995.000000   NaN\n",
              "25%            115.750000    32.000000  ...  2000.000000   NaN\n",
              "50%            199.500000    38.000000  ...  2005.000000   NaN\n",
              "75%            276.250000    44.000000  ...  2010.000000   NaN\n",
              "max            479.000000    64.000000  ...  2015.000000   NaN\n",
              "\n",
              "[8 rows x 19 columns]"
            ]
          },
          "metadata": {},
          "execution_count": 135
        }
      ]
    },
    {
      "cell_type": "markdown",
      "metadata": {
        "id": "sB5Qsmkzxc69"
      },
      "source": [
        "There are outliers in the data"
      ]
    },
    {
      "cell_type": "code",
      "metadata": {
        "colab": {
          "base_uri": "https://localhost:8080/"
        },
        "id": "5EPwi0oKkErx",
        "outputId": "071f1db6-0645-432d-aee2-bce28a1deeca"
      },
      "source": [
        "data.isna().sum()"
      ],
      "execution_count": 136,
      "outputs": [
        {
          "output_type": "execute_result",
          "data": {
            "text/plain": [
              "months_as_customer                0\n",
              "age                               0\n",
              "policy_number                     0\n",
              "policy_bind_date                  0\n",
              "policy_state                      0\n",
              "policy_csl                        0\n",
              "policy_deductable                 0\n",
              "policy_annual_premium             0\n",
              "umbrella_limit                    0\n",
              "insured_zip                       0\n",
              "insured_sex                       0\n",
              "insured_education_level           0\n",
              "insured_occupation                0\n",
              "insured_hobbies                   0\n",
              "insured_relationship              0\n",
              "capital-gains                     0\n",
              "capital-loss                      0\n",
              "incident_date                     0\n",
              "incident_type                     0\n",
              "collision_type                    0\n",
              "incident_severity                 0\n",
              "authorities_contacted             0\n",
              "incident_state                    0\n",
              "incident_city                     0\n",
              "incident_location                 0\n",
              "incident_hour_of_the_day          0\n",
              "number_of_vehicles_involved       0\n",
              "property_damage                   0\n",
              "bodily_injuries                   0\n",
              "witnesses                         0\n",
              "police_report_available           0\n",
              "total_claim_amount                0\n",
              "injury_claim                      0\n",
              "property_claim                    0\n",
              "vehicle_claim                     0\n",
              "auto_make                         0\n",
              "auto_model                        0\n",
              "auto_year                         0\n",
              "fraud_reported                    0\n",
              "_c39                           1000\n",
              "dtype: int64"
            ]
          },
          "metadata": {},
          "execution_count": 136
        }
      ]
    },
    {
      "cell_type": "markdown",
      "metadata": {
        "id": "lZpczv63xlVt"
      },
      "source": [
        "The only variable with null value is _c39"
      ]
    },
    {
      "cell_type": "code",
      "metadata": {
        "id": "YNMAnHnTkHws"
      },
      "source": [
        "data.drop(columns = ['_c39'], axis = 1, inplace = True)"
      ],
      "execution_count": 137,
      "outputs": []
    },
    {
      "cell_type": "code",
      "metadata": {
        "colab": {
          "base_uri": "https://localhost:8080/",
          "height": 247
        },
        "id": "Bjv4SBwGkZKp",
        "outputId": "62542576-4898-4a9c-b79e-30bb25bc6152"
      },
      "source": [
        "y = data['fraud_reported'].value_counts()\n",
        "labels = [\"No\",\"Yes\"]\n",
        "\n",
        "plt.pie(y, labels = labels)\n",
        "plt.show()"
      ],
      "execution_count": 138,
      "outputs": [
        {
          "output_type": "display_data",
          "data": {
            "image/png": "[encoded data removed]",
            "text/plain": [
              "<Figure size 432x288 with 1 Axes>"
            ]
          },
          "metadata": {}
        }
      ]
    },
    {
      "cell_type": "markdown",
      "metadata": {
        "id": "7bJDfyyPxpu9"
      },
      "source": [
        "There is class imbalance"
      ]
    },
    {
      "cell_type": "code",
      "metadata": {
        "colab": {
          "base_uri": "https://localhost:8080/",
          "height": 894
        },
        "id": "gIoFNAFemWWB",
        "outputId": "975b2c95-db6b-4e39-9204-7aec3dd36711"
      },
      "source": [
        "fig, ax = plt.subplots(1, 1, figsize=(40, 15))\n",
        "sns.boxplot(data = data, ax=ax)\n",
        "plt.show()"
      ],
      "execution_count": 139,
      "outputs": [
        {
          "output_type": "display_data",
          "data": {
            "image/png": "[encoded data removed]",
            "text/plain": [
              "<Figure size 2880x1080 with 1 Axes>"
            ]
          },
          "metadata": {
            "needs_background": "light"
          }
        }
      ]
    },
    {
      "cell_type": "markdown",
      "metadata": {
        "id": "fnfuFpCcxtcn"
      },
      "source": [
        "Umbrella_limit has highest number of outliers"
      ]
    },
    {
      "cell_type": "code",
      "metadata": {
        "colab": {
          "base_uri": "https://localhost:8080/",
          "height": 1000
        },
        "id": "wpo6ATdBm3X7",
        "outputId": "a8d8f509-0bfe-4b8b-9f8b-dabf71b2940c"
      },
      "source": [
        "data.hist(figsize = (30,20), grid = False)\n"
      ],
      "execution_count": 140,
      "outputs": [
        {
          "output_type": "execute_result",
          "data": {
            "text/plain": [
              "array([[<matplotlib.axes._subplots.AxesSubplot object at 0x7f0c3fe918d0>,\n",
              "        <matplotlib.axes._subplots.AxesSubplot object at 0x7f0c3fc39d90>,\n",
              "        <matplotlib.axes._subplots.AxesSubplot object at 0x7f0c3fbf9410>,\n",
              "        <matplotlib.axes._subplots.AxesSubplot object at 0x7f0c3fbada90>],\n",
              "       [<matplotlib.axes._subplots.AxesSubplot object at 0x7f0c3fb6f150>,\n",
              "        <matplotlib.axes._subplots.AxesSubplot object at 0x7f0c3fb277d0>,\n",
              "        <matplotlib.axes._subplots.AxesSubplot object at 0x7f0c3fb5be50>,\n",
              "        <matplotlib.axes._subplots.AxesSubplot object at 0x7f0c3fa9d510>],\n",
              "       [<matplotlib.axes._subplots.AxesSubplot object at 0x7f0c3faa8990>,\n",
              "        <matplotlib.axes._subplots.AxesSubplot object at 0x7f0c3fa6b150>,\n",
              "        <matplotlib.axes._subplots.AxesSubplot object at 0x7f0c3fa4c8d0>,\n",
              "        <matplotlib.axes._subplots.AxesSubplot object at 0x7f0c3fa02f50>],\n",
              "       [<matplotlib.axes._subplots.AxesSubplot object at 0x7f0c3f9c4610>,\n",
              "        <matplotlib.axes._subplots.AxesSubplot object at 0x7f0c3f97ac90>,\n",
              "        <matplotlib.axes._subplots.AxesSubplot object at 0x7f0c3f93d350>,\n",
              "        <matplotlib.axes._subplots.AxesSubplot object at 0x7f0c3f8f29d0>],\n",
              "       [<matplotlib.axes._subplots.AxesSubplot object at 0x7f0c3f8b6090>,\n",
              "        <matplotlib.axes._subplots.AxesSubplot object at 0x7f0c3f86a710>,\n",
              "        <matplotlib.axes._subplots.AxesSubplot object at 0x7f0c3f826690>,\n",
              "        <matplotlib.axes._subplots.AxesSubplot object at 0x7f0c3f7ddc10>]],\n",
              "      dtype=object)"
            ]
          },
          "metadata": {},
          "execution_count": 140
        },
        {
          "output_type": "display_data",
          "data": {
            "image/png": "[encoded data removed]",
            "text/plain": [
              "<Figure size 2160x1440 with 20 Axes>"
            ]
          },
          "metadata": {
            "needs_background": "light"
          }
        }
      ]
    },
    {
      "cell_type": "markdown",
      "metadata": {
        "id": "1_Bae6hJ9AYt"
      },
      "source": [
        "The feature: umbrella_limit and insured_zip have skewed data."
      ]
    },
    {
      "cell_type": "code",
      "metadata": {
        "colab": {
          "base_uri": "https://localhost:8080/",
          "height": 1000
        },
        "id": "jOXX9R828xkQ",
        "outputId": "716a93bb-297c-46d4-db53-088c90860aa8"
      },
      "source": [
        "#Correlation Matrix\n",
        "\n",
        "corr_mat = data.corr()\n",
        "m = np.array(corr_mat)\n",
        "m[np.tril_indices_from(m)] = False\n",
        "\n",
        "fig = plt.gcf()\n",
        "fig.set_size_inches(30,24)\n",
        "sns.heatmap(data = corr_mat, mask = m, square = True, annot = True, cbar = True)"
      ],
      "execution_count": 141,
      "outputs": [
        {
          "output_type": "execute_result",
          "data": {
            "text/plain": [
              "<matplotlib.axes._subplots.AxesSubplot at 0x7f0c3fd03e50>"
            ]
          },
          "metadata": {},
          "execution_count": 141
        },
        {
          "output_type": "display_data",
          "data": {
            "image/png": "[encoded data removed]",
            "text/plain": [
              "<Figure size 2160x1728 with 2 Axes>"
            ]
          },
          "metadata": {
            "needs_background": "light"
          }
        }
      ]
    },
    {
      "cell_type": "markdown",
      "metadata": {
        "id": "xcB5psun_Ew_"
      },
      "source": [
        "*   Toal_claim_amount is highly correlated with:\n",
        "1.   injury_claim\n",
        "2.   property_claim\n",
        "3.   vehicle_claim\n",
        "*    Property_claim is highly correlated with:\n",
        "1.   vehicle_claim\n",
        "*    Injury_claim\n",
        "1.   property_claim\n",
        "2.   vehicle_claim  \n",
        "*   age is highly correlated with months_as_customer"
      ]
    },
    {
      "cell_type": "code",
      "metadata": {
        "id": "KA6EsJBV9qDA",
        "colab": {
          "base_uri": "https://localhost:8080/",
          "height": 1000
        },
        "outputId": "f7593f5d-58b0-40e7-89dc-f8d679419cee"
      },
      "source": [
        "plt.figure(figsize = (30,35))\n",
        "graph = 1\n",
        "\n",
        "for column in data:\n",
        "  if graph<=40:\n",
        "    ax = plt.subplot(8,5,graph)\n",
        "    sns.scatterplot(x = data[column], y = 'fraud_reported', data = data)\n",
        "    plt.xlabel(column, fontsize = 20)\n",
        "  graph+=1\n",
        "plt.show()"
      ],
      "execution_count": 142,
      "outputs": [
        {
          "output_type": "display_data",
          "data": {
            "image/png": "[encoded data removed]",
            "text/plain": [
              "<Figure size 2160x2520 with 39 Axes>"
            ]
          },
          "metadata": {
            "needs_background": "light"
          }
        }
      ]
    },
    {
      "cell_type": "markdown",
      "metadata": {
        "id": "2EGXYhCTx3ld"
      },
      "source": [
        "Following features are more likely to fraud:\n",
        "1.   if policy bind date is far\n",
        "2.   policy annual premium is high\n",
        "3.   high collusion type"
      ]
    },
    {
      "cell_type": "code",
      "metadata": {
        "id": "veiaVViOAFYf",
        "colab": {
          "base_uri": "https://localhost:8080/",
          "height": 623
        },
        "outputId": "656dbd5c-ec86-4df1-c408-dbe9ef80f2c6"
      },
      "source": [
        "fig,axes=plt.subplots(1,1,figsize=(10,10))\n",
        "sns.scatterplot(x='capital-loss',y='fraud_reported',hue='policy_state',data=data)"
      ],
      "execution_count": 143,
      "outputs": [
        {
          "output_type": "execute_result",
          "data": {
            "text/plain": [
              "<matplotlib.axes._subplots.AxesSubplot at 0x7f0c4bbdcf10>"
            ]
          },
          "metadata": {},
          "execution_count": 143
        },
        {
          "output_type": "display_data",
          "data": {
            "image/png": "[encoded data removed]",
            "text/plain": [
              "<Figure size 720x720 with 1 Axes>"
            ]
          },
          "metadata": {
            "needs_background": "light"
          }
        }
      ]
    },
    {
      "cell_type": "markdown",
      "metadata": {
        "id": "_fVy2jzL4Gbq"
      },
      "source": [
        "Those with low capital loss are more likely to fraud."
      ]
    },
    {
      "cell_type": "code",
      "metadata": {
        "id": "gbJTzriXA3lz",
        "colab": {
          "base_uri": "https://localhost:8080/",
          "height": 367
        },
        "outputId": "8e24566e-9b40-40a3-c506-5a9a5b1aa7c6"
      },
      "source": [
        "sns.countplot(data['witnesses'], hue = data['fraud_reported'])\n",
        "plt.title('count plot for witness and fraud reported')"
      ],
      "execution_count": 144,
      "outputs": [
        {
          "output_type": "stream",
          "name": "stderr",
          "text": [
            "/usr/local/lib/python3.7/dist-packages/seaborn/_decorators.py:43: FutureWarning: Pass the following variable as a keyword arg: x. From version 0.12, the only valid positional argument will be `data`, and passing other arguments without an explicit keyword will result in an error or misinterpretation.\n",
            "  FutureWarning\n"
          ]
        },
        {
          "output_type": "execute_result",
          "data": {
            "text/plain": [
              "Text(0.5, 1.0, 'count plot for witness and fraud reported')"
            ]
          },
          "metadata": {},
          "execution_count": 144
        },
        {
          "output_type": "display_data",
          "data": {
            "image/png": "[encoded data removed]",
            "text/plain": [
              "<Figure size 432x288 with 1 Axes>"
            ]
          },
          "metadata": {
            "needs_background": "light"
          }
        }
      ]
    },
    {
      "cell_type": "markdown",
      "metadata": {
        "id": "1GQJPtXx41XD"
      },
      "source": [
        "The number of witnesses are not impacting the fraud rate very significantly"
      ]
    },
    {
      "cell_type": "code",
      "metadata": {
        "id": "o-R7R_IFBvUb",
        "colab": {
          "base_uri": "https://localhost:8080/",
          "height": 403
        },
        "outputId": "373af9fe-2354-472d-ed9e-6221ebeb6166"
      },
      "source": [
        "print(data['bodily_injuries'].value_counts())\n",
        "sns.countplot(data['bodily_injuries'])\n",
        "plt.xticks(rotation = 90);"
      ],
      "execution_count": 145,
      "outputs": [
        {
          "output_type": "stream",
          "name": "stdout",
          "text": [
            "0    340\n",
            "2    332\n",
            "1    328\n",
            "Name: bodily_injuries, dtype: int64\n"
          ]
        },
        {
          "output_type": "stream",
          "name": "stderr",
          "text": [
            "/usr/local/lib/python3.7/dist-packages/seaborn/_decorators.py:43: FutureWarning: Pass the following variable as a keyword arg: x. From version 0.12, the only valid positional argument will be `data`, and passing other arguments without an explicit keyword will result in an error or misinterpretation.\n",
            "  FutureWarning\n"
          ]
        },
        {
          "output_type": "display_data",
          "data": {
            "image/png": "[encoded data removed]",
            "text/plain": [
              "<Figure size 432x288 with 1 Axes>"
            ]
          },
          "metadata": {
            "needs_background": "light"
          }
        }
      ]
    },
    {
      "cell_type": "markdown",
      "metadata": {
        "id": "lcDjm4GL5BsS"
      },
      "source": [
        "The distribution is similar with respeet to the bodies injured."
      ]
    },
    {
      "cell_type": "code",
      "metadata": {
        "id": "gp1F0bpQCuAt",
        "colab": {
          "base_uri": "https://localhost:8080/"
        },
        "outputId": "d7ec86a4-ef40-4bb4-af56-b987b74b328e"
      },
      "source": [
        "#Treating the outliers\n",
        "\n",
        "# findingout the quantile of data with continuous columns\n",
        "col = data.drop(columns = ['policy_bind_date','policy_state','insured_sex','insured_education_level','insured_occupation','insured_hobbies','insured_relationship','incident_date','collision_type','incident_severity','authorities_contacted','incident_state','incident_city','incident_location','property_damage','police_report_available','auto_make','auto_model','fraud_reported'])\n",
        "Q1 = col.quantile(0.25)\n",
        "Q3 = col.quantile(0.75)\n",
        "IQR = Q3 - Q1\n",
        "# REMOVING OUTLIERS USING IQR METHOD\n",
        "data_new = col[~((col < (Q1 -  1.5*IQR)) |(col > (Q3 +  1.5*IQR))).any(axis=1)]\n",
        "print(\"shape before and after\")\n",
        "print(\"shape before\".ljust(20),\":\", col.shape)\n",
        "print(\"shape after\".ljust(20),\":\", data_new.shape)\n",
        "print(\"Percentage Loss\".ljust(20),\":\", (col.shape[0]-data_new.shape[0])/col.shape[0])"
      ],
      "execution_count": 146,
      "outputs": [
        {
          "output_type": "stream",
          "name": "stdout",
          "text": [
            "shape before and after\n",
            "shape before         : (1000, 20)\n",
            "shape after          : (782, 20)\n",
            "Percentage Loss      : 0.218\n"
          ]
        }
      ]
    },
    {
      "cell_type": "markdown",
      "metadata": {
        "id": "PXvbEXgwSDQb"
      },
      "source": [
        "21% of the data is lost, so can't apply IQR"
      ]
    },
    {
      "cell_type": "code",
      "metadata": {
        "id": "zESaugU5DoVj"
      },
      "source": [
        "from sklearn.preprocessing import LabelEncoder\n",
        "le = LabelEncoder()"
      ],
      "execution_count": 148,
      "outputs": []
    },
    {
      "cell_type": "markdown",
      "metadata": {
        "id": "vMZej-bf5SIh"
      },
      "source": [
        "Applied label encoer"
      ]
    },
    {
      "cell_type": "code",
      "metadata": {
        "id": "kxc5auYSOVJa"
      },
      "source": [
        "data['policy_bind_date']=le.fit_transform(data['policy_bind_date'])\n",
        "data['policy_state']=le.fit_transform(data['policy_state'])\n",
        "data['insured_sex']=le.fit_transform(data['insured_sex'])\n",
        "data['insured_education_level']=le.fit_transform(data['insured_education_level'])\n",
        "data['insured_occupation']=le.fit_transform(data['insured_occupation'])\n",
        "data['insured_hobbies']=le.fit_transform(data['insured_hobbies'])\n",
        "data['insured_relationship']=le.fit_transform(data['insured_relationship'])\n",
        "data['incident_date']=le.fit_transform(data['incident_date'])\n",
        "data['collision_type']=le.fit_transform(data['collision_type'])\n",
        "data['incident_severity']=le.fit_transform(data['incident_severity'])\n",
        "data['authorities_contacted']=le.fit_transform(data['authorities_contacted'])\n",
        "data['incident_state']=le.fit_transform(data['incident_state'])\n",
        "data['incident_city']=le.fit_transform(data['incident_city'])\n",
        "data['property_damage']=le.fit_transform(data['property_damage'])\n",
        "data['police_report_available']=le.fit_transform(data['police_report_available'])\n",
        "data['auto_make']=le.fit_transform(data['auto_make'])\n",
        "data['auto_model']=le.fit_transform(data['auto_model'])\n",
        "data['fraud_reported']=le.fit_transform(data['fraud_reported'])\n",
        "data['incident_location']=le.fit_transform(data['incident_location'])\n",
        "data['incident_type']=le.fit_transform(data['incident_type'])\n",
        "data['policy_csl']=le.fit_transform(data['policy_csl'])"
      ],
      "execution_count": 149,
      "outputs": []
    },
    {
      "cell_type": "markdown",
      "metadata": {
        "id": "Z1sDYJDy5Vze"
      },
      "source": [
        "Transformed the categorical data into numerical data"
      ]
    },
    {
      "cell_type": "code",
      "metadata": {
        "id": "t-79JwLAlQaM"
      },
      "source": [
        "#Applying z score\n",
        "from scipy.stats import zscore\n",
        "z = np.abs(zscore(data))\n",
        "\n",
        "data1 = data[(z<3).all(axis = 1)]"
      ],
      "execution_count": 150,
      "outputs": []
    },
    {
      "cell_type": "markdown",
      "metadata": {
        "id": "_cM4AjIU5bQE"
      },
      "source": [
        "Applied z score"
      ]
    },
    {
      "cell_type": "code",
      "metadata": {
        "colab": {
          "base_uri": "https://localhost:8080/"
        },
        "id": "OXDTAnYmlYVG",
        "outputId": "3111f7bf-9e57-4945-d6de-81becc81be65"
      },
      "source": [
        "print(\"shape before and after\")\n",
        "print(\"shape before\".ljust(20),\":\", data.shape)\n",
        "print(\"shape after\".ljust(20),\":\", data1.shape)\n",
        "print(\"Percentage Loss\".ljust(20),\":\", (data.shape[0]-data1.shape[0])/data.shape[0])"
      ],
      "execution_count": 151,
      "outputs": [
        {
          "output_type": "stream",
          "name": "stdout",
          "text": [
            "shape before and after\n",
            "shape before         : (1000, 39)\n",
            "shape after          : (980, 39)\n",
            "Percentage Loss      : 0.02\n"
          ]
        }
      ]
    },
    {
      "cell_type": "markdown",
      "metadata": {
        "id": "Kig24UVv5eB8"
      },
      "source": [
        "Lost only 2% data, so we can apply the z score"
      ]
    },
    {
      "cell_type": "code",
      "metadata": {
        "id": "T-qRe8q8PNaB"
      },
      "source": [
        "#applying standard scaler:\n",
        "\n",
        "from sklearn.preprocessing import StandardScaler\n",
        "from statsmodels.stats.outliers_influence import variance_inflation_factor\n",
        "\n",
        "scaler = StandardScaler()\n",
        "x_scaled = scaler.fit_transform(data1)"
      ],
      "execution_count": 152,
      "outputs": []
    },
    {
      "cell_type": "markdown",
      "metadata": {
        "id": "f2F3gWB45j_5"
      },
      "source": [
        "Applied standard scaler"
      ]
    },
    {
      "cell_type": "code",
      "metadata": {
        "colab": {
          "base_uri": "https://localhost:8080/",
          "height": 1000
        },
        "id": "T72RwNREUVtT",
        "outputId": "cd3acf56-c702-4811-90d1-214555ecb0f7"
      },
      "source": [
        "x_scaled.shape[1]\n",
        "vif = pd.DataFrame()\n",
        "\n",
        "vif['Features'] = data1.columns\n",
        "vif['vif'] = [variance_inflation_factor(x_scaled,i) for i in range(x_scaled.shape[1])]\n",
        "\n",
        "vif"
      ],
      "execution_count": 153,
      "outputs": [
        {
          "output_type": "stream",
          "name": "stderr",
          "text": [
            "/usr/local/lib/python3.7/dist-packages/statsmodels/stats/outliers_influence.py:185: RuntimeWarning: divide by zero encountered in double_scalars\n",
            "  vif = 1. / (1. - r_squared_i)\n"
          ]
        },
        {
          "output_type": "execute_result",
          "data": {
            "text/html": [
              "<div>\n",
              "<style scoped>\n",
              "    .dataframe tbody tr th:only-of-type {\n",
              "        vertical-align: middle;\n",
              "    }\n",
              "\n",
              "    .dataframe tbody tr th {\n",
              "        vertical-align: top;\n",
              "    }\n",
              "\n",
              "    .dataframe thead th {\n",
              "        text-align: right;\n",
              "    }\n",
              "</style>\n",
              "<table border=\"1\" class=\"dataframe\">\n",
              "  <thead>\n",
              "    <tr style=\"text-align: right;\">\n",
              "      <th></th>\n",
              "      <th>Features</th>\n",
              "      <th>vif</th>\n",
              "    </tr>\n",
              "  </thead>\n",
              "  <tbody>\n",
              "    <tr>\n",
              "      <th>0</th>\n",
              "      <td>months_as_customer</td>\n",
              "      <td>6.900056</td>\n",
              "    </tr>\n",
              "    <tr>\n",
              "      <th>1</th>\n",
              "      <td>age</td>\n",
              "      <td>6.924151</td>\n",
              "    </tr>\n",
              "    <tr>\n",
              "      <th>2</th>\n",
              "      <td>policy_number</td>\n",
              "      <td>1.032789</td>\n",
              "    </tr>\n",
              "    <tr>\n",
              "      <th>3</th>\n",
              "      <td>policy_bind_date</td>\n",
              "      <td>1.032846</td>\n",
              "    </tr>\n",
              "    <tr>\n",
              "      <th>4</th>\n",
              "      <td>policy_state</td>\n",
              "      <td>1.037038</td>\n",
              "    </tr>\n",
              "    <tr>\n",
              "      <th>5</th>\n",
              "      <td>policy_csl</td>\n",
              "      <td>1.033830</td>\n",
              "    </tr>\n",
              "    <tr>\n",
              "      <th>6</th>\n",
              "      <td>policy_deductable</td>\n",
              "      <td>1.041684</td>\n",
              "    </tr>\n",
              "    <tr>\n",
              "      <th>7</th>\n",
              "      <td>policy_annual_premium</td>\n",
              "      <td>1.041532</td>\n",
              "    </tr>\n",
              "    <tr>\n",
              "      <th>8</th>\n",
              "      <td>umbrella_limit</td>\n",
              "      <td>1.039838</td>\n",
              "    </tr>\n",
              "    <tr>\n",
              "      <th>9</th>\n",
              "      <td>insured_zip</td>\n",
              "      <td>1.039000</td>\n",
              "    </tr>\n",
              "    <tr>\n",
              "      <th>10</th>\n",
              "      <td>insured_sex</td>\n",
              "      <td>1.029594</td>\n",
              "    </tr>\n",
              "    <tr>\n",
              "      <th>11</th>\n",
              "      <td>insured_education_level</td>\n",
              "      <td>1.045502</td>\n",
              "    </tr>\n",
              "    <tr>\n",
              "      <th>12</th>\n",
              "      <td>insured_occupation</td>\n",
              "      <td>1.021430</td>\n",
              "    </tr>\n",
              "    <tr>\n",
              "      <th>13</th>\n",
              "      <td>insured_hobbies</td>\n",
              "      <td>1.052269</td>\n",
              "    </tr>\n",
              "    <tr>\n",
              "      <th>14</th>\n",
              "      <td>insured_relationship</td>\n",
              "      <td>1.055014</td>\n",
              "    </tr>\n",
              "    <tr>\n",
              "      <th>15</th>\n",
              "      <td>capital-gains</td>\n",
              "      <td>1.037175</td>\n",
              "    </tr>\n",
              "    <tr>\n",
              "      <th>16</th>\n",
              "      <td>capital-loss</td>\n",
              "      <td>1.043020</td>\n",
              "    </tr>\n",
              "    <tr>\n",
              "      <th>17</th>\n",
              "      <td>incident_date</td>\n",
              "      <td>1.037929</td>\n",
              "    </tr>\n",
              "    <tr>\n",
              "      <th>18</th>\n",
              "      <td>incident_type</td>\n",
              "      <td>5.177389</td>\n",
              "    </tr>\n",
              "    <tr>\n",
              "      <th>19</th>\n",
              "      <td>collision_type</td>\n",
              "      <td>1.711373</td>\n",
              "    </tr>\n",
              "    <tr>\n",
              "      <th>20</th>\n",
              "      <td>incident_severity</td>\n",
              "      <td>1.408820</td>\n",
              "    </tr>\n",
              "    <tr>\n",
              "      <th>21</th>\n",
              "      <td>authorities_contacted</td>\n",
              "      <td>1.079130</td>\n",
              "    </tr>\n",
              "    <tr>\n",
              "      <th>22</th>\n",
              "      <td>incident_state</td>\n",
              "      <td>1.052015</td>\n",
              "    </tr>\n",
              "    <tr>\n",
              "      <th>23</th>\n",
              "      <td>incident_city</td>\n",
              "      <td>1.035472</td>\n",
              "    </tr>\n",
              "    <tr>\n",
              "      <th>24</th>\n",
              "      <td>incident_location</td>\n",
              "      <td>1.042601</td>\n",
              "    </tr>\n",
              "    <tr>\n",
              "      <th>25</th>\n",
              "      <td>incident_hour_of_the_day</td>\n",
              "      <td>1.105601</td>\n",
              "    </tr>\n",
              "    <tr>\n",
              "      <th>26</th>\n",
              "      <td>number_of_vehicles_involved</td>\n",
              "      <td>5.188814</td>\n",
              "    </tr>\n",
              "    <tr>\n",
              "      <th>27</th>\n",
              "      <td>property_damage</td>\n",
              "      <td>1.039901</td>\n",
              "    </tr>\n",
              "    <tr>\n",
              "      <th>28</th>\n",
              "      <td>bodily_injuries</td>\n",
              "      <td>1.026936</td>\n",
              "    </tr>\n",
              "    <tr>\n",
              "      <th>29</th>\n",
              "      <td>witnesses</td>\n",
              "      <td>1.047674</td>\n",
              "    </tr>\n",
              "    <tr>\n",
              "      <th>30</th>\n",
              "      <td>police_report_available</td>\n",
              "      <td>1.030652</td>\n",
              "    </tr>\n",
              "    <tr>\n",
              "      <th>31</th>\n",
              "      <td>total_claim_amount</td>\n",
              "      <td>inf</td>\n",
              "    </tr>\n",
              "    <tr>\n",
              "      <th>32</th>\n",
              "      <td>injury_claim</td>\n",
              "      <td>inf</td>\n",
              "    </tr>\n",
              "    <tr>\n",
              "      <th>33</th>\n",
              "      <td>property_claim</td>\n",
              "      <td>inf</td>\n",
              "    </tr>\n",
              "    <tr>\n",
              "      <th>34</th>\n",
              "      <td>vehicle_claim</td>\n",
              "      <td>inf</td>\n",
              "    </tr>\n",
              "    <tr>\n",
              "      <th>35</th>\n",
              "      <td>auto_make</td>\n",
              "      <td>1.077269</td>\n",
              "    </tr>\n",
              "    <tr>\n",
              "      <th>36</th>\n",
              "      <td>auto_model</td>\n",
              "      <td>1.075659</td>\n",
              "    </tr>\n",
              "    <tr>\n",
              "      <th>37</th>\n",
              "      <td>auto_year</td>\n",
              "      <td>1.044723</td>\n",
              "    </tr>\n",
              "    <tr>\n",
              "      <th>38</th>\n",
              "      <td>fraud_reported</td>\n",
              "      <td>1.236327</td>\n",
              "    </tr>\n",
              "  </tbody>\n",
              "</table>\n",
              "</div>"
            ],
            "text/plain": [
              "                       Features       vif\n",
              "0            months_as_customer  6.900056\n",
              "1                           age  6.924151\n",
              "2                 policy_number  1.032789\n",
              "3              policy_bind_date  1.032846\n",
              "4                  policy_state  1.037038\n",
              "5                    policy_csl  1.033830\n",
              "6             policy_deductable  1.041684\n",
              "7         policy_annual_premium  1.041532\n",
              "8                umbrella_limit  1.039838\n",
              "9                   insured_zip  1.039000\n",
              "10                  insured_sex  1.029594\n",
              "11      insured_education_level  1.045502\n",
              "12           insured_occupation  1.021430\n",
              "13              insured_hobbies  1.052269\n",
              "14         insured_relationship  1.055014\n",
              "15                capital-gains  1.037175\n",
              "16                 capital-loss  1.043020\n",
              "17                incident_date  1.037929\n",
              "18                incident_type  5.177389\n",
              "19               collision_type  1.711373\n",
              "20            incident_severity  1.408820\n",
              "21        authorities_contacted  1.079130\n",
              "22               incident_state  1.052015\n",
              "23                incident_city  1.035472\n",
              "24            incident_location  1.042601\n",
              "25     incident_hour_of_the_day  1.105601\n",
              "26  number_of_vehicles_involved  5.188814\n",
              "27              property_damage  1.039901\n",
              "28              bodily_injuries  1.026936\n",
              "29                    witnesses  1.047674\n",
              "30      police_report_available  1.030652\n",
              "31           total_claim_amount       inf\n",
              "32                 injury_claim       inf\n",
              "33               property_claim       inf\n",
              "34                vehicle_claim       inf\n",
              "35                    auto_make  1.077269\n",
              "36                   auto_model  1.075659\n",
              "37                    auto_year  1.044723\n",
              "38               fraud_reported  1.236327"
            ]
          },
          "metadata": {},
          "execution_count": 153
        }
      ]
    },
    {
      "cell_type": "markdown",
      "metadata": {
        "id": "PsVAX1kB5n6_"
      },
      "source": [
        "VIF is inf for some of the variables, so it is important to drop one of them"
      ]
    },
    {
      "cell_type": "code",
      "metadata": {
        "id": "4SRbvL5rlxrp"
      },
      "source": [
        "\n",
        "X = data.drop(columns = ['fraud_reported'])\n",
        "X_scaled = scaler.fit_transform(X)"
      ],
      "execution_count": 154,
      "outputs": []
    },
    {
      "cell_type": "markdown",
      "metadata": {
        "id": "Dwrkk4-p5vTn"
      },
      "source": [
        "Dropped the target variable"
      ]
    },
    {
      "cell_type": "code",
      "metadata": {
        "colab": {
          "base_uri": "https://localhost:8080/"
        },
        "id": "6dUdGge_mQu6",
        "outputId": "6bdcb165-48ba-4230-e21e-31131507dbb1"
      },
      "source": [
        "from sklearn.decomposition import PCA\n",
        "pca = PCA()\n",
        "pca.fit_transform(X_scaled)"
      ],
      "execution_count": 155,
      "outputs": [
        {
          "output_type": "execute_result",
          "data": {
            "text/plain": [
              "array([[-1.11586149e+00,  1.14884878e+00,  1.37391309e+00, ...,\n",
              "        -1.69802981e-01, -2.05045792e-02, -1.55176677e-15],\n",
              "       [ 3.99151480e+00,  7.34571251e-01,  3.37498906e-01, ...,\n",
              "         5.49249306e-01,  7.53975917e-02, -1.09636145e-16],\n",
              "       [ 4.23810725e-01, -9.93965907e-01, -1.54880250e+00, ...,\n",
              "         6.36263056e-02, -3.01664118e-01,  2.41795557e-15],\n",
              "       ...,\n",
              "       [-1.18779889e+00, -7.99989160e-01, -1.02610755e+00, ...,\n",
              "         3.70320722e-02,  1.72750291e-01,  3.86584904e-16],\n",
              "       [ 6.94463467e-01,  3.87601129e+00,  6.10715921e-01, ...,\n",
              "        -1.06951332e-01,  2.21660856e-01, -4.24040402e-16],\n",
              "       [ 3.57577957e+00,  3.11810501e+00, -1.67159630e+00, ...,\n",
              "        -6.03289381e-01,  9.81096400e-02,  2.29078784e-15]])"
            ]
          },
          "metadata": {},
          "execution_count": 155
        }
      ]
    },
    {
      "cell_type": "markdown",
      "metadata": {
        "id": "ubfJWhof51uA"
      },
      "source": [
        "Applied pca"
      ]
    },
    {
      "cell_type": "code",
      "metadata": {
        "colab": {
          "base_uri": "https://localhost:8080/",
          "height": 294
        },
        "id": "0gk8zfH8mTYs",
        "outputId": "296344c0-e1de-4c1d-c476-897e93a5bf3d"
      },
      "source": [
        "plt.figure()\n",
        "plt.plot(np.cumsum(pca.explained_variance_ratio_))\n",
        "plt.xlabel('Principal Components')\n",
        "plt.ylabel('Variance Covered')\n",
        "plt.title('PCA')\n",
        "plt.show()"
      ],
      "execution_count": 156,
      "outputs": [
        {
          "output_type": "display_data",
          "data": {
            "image/png": "[encoded data removed]",
            "text/plain": [
              "<Figure size 432x288 with 1 Axes>"
            ]
          },
          "metadata": {
            "needs_background": "light"
          }
        }
      ]
    },
    {
      "cell_type": "markdown",
      "metadata": {
        "id": "J5Yggz4r54RT"
      },
      "source": [
        "Very high number of features are required to get 95% of the data, does not a good option to apply pca."
      ]
    },
    {
      "cell_type": "code",
      "metadata": {
        "colab": {
          "base_uri": "https://localhost:8080/"
        },
        "id": "hy63HA2HmXfm",
        "outputId": "19e87e54-a3aa-4dab-8154-89c962ecdc04"
      },
      "source": [
        "data1.drop(columns = ['total_claim_amount'], axis = 1, inplace = True)"
      ],
      "execution_count": 157,
      "outputs": [
        {
          "output_type": "stream",
          "name": "stderr",
          "text": [
            "/usr/local/lib/python3.7/dist-packages/pandas/core/frame.py:4174: SettingWithCopyWarning: \n",
            "A value is trying to be set on a copy of a slice from a DataFrame\n",
            "\n",
            "See the caveats in the documentation: https://pandas.pydata.org/pandas-docs/stable/user_guide/indexing.html#returning-a-view-versus-a-copy\n",
            "  errors=errors,\n"
          ]
        }
      ]
    },
    {
      "cell_type": "markdown",
      "metadata": {
        "id": "P7jum8UR6Fz0"
      },
      "source": [
        "dropped total_claim_amount as it was leading to the problem of multicollinearity"
      ]
    },
    {
      "cell_type": "code",
      "metadata": {
        "id": "c0YBggzlng-2"
      },
      "source": [
        "#applying standard scaler again:\n",
        "\n",
        "\n",
        "scaler = StandardScaler()\n",
        "x_scaled = scaler.fit_transform(data1)"
      ],
      "execution_count": 158,
      "outputs": []
    },
    {
      "cell_type": "markdown",
      "metadata": {
        "id": "WwXnccq96NNd"
      },
      "source": [
        "applied standard scaler again"
      ]
    },
    {
      "cell_type": "code",
      "metadata": {
        "colab": {
          "base_uri": "https://localhost:8080/",
          "height": 1000
        },
        "id": "L4jYOPK3m_Yx",
        "outputId": "09a275c8-af69-4344-c302-684211cfa6f3"
      },
      "source": [
        "x_scaled.shape[1]\n",
        "vif = pd.DataFrame()\n",
        "\n",
        "vif['Features'] = data1.columns\n",
        "vif['vif'] = [variance_inflation_factor(x_scaled,i) for i in range(x_scaled.shape[1])]\n",
        "\n",
        "vif"
      ],
      "execution_count": 159,
      "outputs": [
        {
          "output_type": "execute_result",
          "data": {
            "text/html": [
              "<div>\n",
              "<style scoped>\n",
              "    .dataframe tbody tr th:only-of-type {\n",
              "        vertical-align: middle;\n",
              "    }\n",
              "\n",
              "    .dataframe tbody tr th {\n",
              "        vertical-align: top;\n",
              "    }\n",
              "\n",
              "    .dataframe thead th {\n",
              "        text-align: right;\n",
              "    }\n",
              "</style>\n",
              "<table border=\"1\" class=\"dataframe\">\n",
              "  <thead>\n",
              "    <tr style=\"text-align: right;\">\n",
              "      <th></th>\n",
              "      <th>Features</th>\n",
              "      <th>vif</th>\n",
              "    </tr>\n",
              "  </thead>\n",
              "  <tbody>\n",
              "    <tr>\n",
              "      <th>0</th>\n",
              "      <td>months_as_customer</td>\n",
              "      <td>6.900056</td>\n",
              "    </tr>\n",
              "    <tr>\n",
              "      <th>1</th>\n",
              "      <td>age</td>\n",
              "      <td>6.924151</td>\n",
              "    </tr>\n",
              "    <tr>\n",
              "      <th>2</th>\n",
              "      <td>policy_number</td>\n",
              "      <td>1.032789</td>\n",
              "    </tr>\n",
              "    <tr>\n",
              "      <th>3</th>\n",
              "      <td>policy_bind_date</td>\n",
              "      <td>1.032846</td>\n",
              "    </tr>\n",
              "    <tr>\n",
              "      <th>4</th>\n",
              "      <td>policy_state</td>\n",
              "      <td>1.037038</td>\n",
              "    </tr>\n",
              "    <tr>\n",
              "      <th>5</th>\n",
              "      <td>policy_csl</td>\n",
              "      <td>1.033830</td>\n",
              "    </tr>\n",
              "    <tr>\n",
              "      <th>6</th>\n",
              "      <td>policy_deductable</td>\n",
              "      <td>1.041684</td>\n",
              "    </tr>\n",
              "    <tr>\n",
              "      <th>7</th>\n",
              "      <td>policy_annual_premium</td>\n",
              "      <td>1.041532</td>\n",
              "    </tr>\n",
              "    <tr>\n",
              "      <th>8</th>\n",
              "      <td>umbrella_limit</td>\n",
              "      <td>1.039838</td>\n",
              "    </tr>\n",
              "    <tr>\n",
              "      <th>9</th>\n",
              "      <td>insured_zip</td>\n",
              "      <td>1.039000</td>\n",
              "    </tr>\n",
              "    <tr>\n",
              "      <th>10</th>\n",
              "      <td>insured_sex</td>\n",
              "      <td>1.029594</td>\n",
              "    </tr>\n",
              "    <tr>\n",
              "      <th>11</th>\n",
              "      <td>insured_education_level</td>\n",
              "      <td>1.045502</td>\n",
              "    </tr>\n",
              "    <tr>\n",
              "      <th>12</th>\n",
              "      <td>insured_occupation</td>\n",
              "      <td>1.021430</td>\n",
              "    </tr>\n",
              "    <tr>\n",
              "      <th>13</th>\n",
              "      <td>insured_hobbies</td>\n",
              "      <td>1.052269</td>\n",
              "    </tr>\n",
              "    <tr>\n",
              "      <th>14</th>\n",
              "      <td>insured_relationship</td>\n",
              "      <td>1.055014</td>\n",
              "    </tr>\n",
              "    <tr>\n",
              "      <th>15</th>\n",
              "      <td>capital-gains</td>\n",
              "      <td>1.037175</td>\n",
              "    </tr>\n",
              "    <tr>\n",
              "      <th>16</th>\n",
              "      <td>capital-loss</td>\n",
              "      <td>1.043020</td>\n",
              "    </tr>\n",
              "    <tr>\n",
              "      <th>17</th>\n",
              "      <td>incident_date</td>\n",
              "      <td>1.037929</td>\n",
              "    </tr>\n",
              "    <tr>\n",
              "      <th>18</th>\n",
              "      <td>incident_type</td>\n",
              "      <td>5.177389</td>\n",
              "    </tr>\n",
              "    <tr>\n",
              "      <th>19</th>\n",
              "      <td>collision_type</td>\n",
              "      <td>1.711373</td>\n",
              "    </tr>\n",
              "    <tr>\n",
              "      <th>20</th>\n",
              "      <td>incident_severity</td>\n",
              "      <td>1.408820</td>\n",
              "    </tr>\n",
              "    <tr>\n",
              "      <th>21</th>\n",
              "      <td>authorities_contacted</td>\n",
              "      <td>1.079130</td>\n",
              "    </tr>\n",
              "    <tr>\n",
              "      <th>22</th>\n",
              "      <td>incident_state</td>\n",
              "      <td>1.052015</td>\n",
              "    </tr>\n",
              "    <tr>\n",
              "      <th>23</th>\n",
              "      <td>incident_city</td>\n",
              "      <td>1.035472</td>\n",
              "    </tr>\n",
              "    <tr>\n",
              "      <th>24</th>\n",
              "      <td>incident_location</td>\n",
              "      <td>1.042601</td>\n",
              "    </tr>\n",
              "    <tr>\n",
              "      <th>25</th>\n",
              "      <td>incident_hour_of_the_day</td>\n",
              "      <td>1.105601</td>\n",
              "    </tr>\n",
              "    <tr>\n",
              "      <th>26</th>\n",
              "      <td>number_of_vehicles_involved</td>\n",
              "      <td>5.188814</td>\n",
              "    </tr>\n",
              "    <tr>\n",
              "      <th>27</th>\n",
              "      <td>property_damage</td>\n",
              "      <td>1.039901</td>\n",
              "    </tr>\n",
              "    <tr>\n",
              "      <th>28</th>\n",
              "      <td>bodily_injuries</td>\n",
              "      <td>1.026936</td>\n",
              "    </tr>\n",
              "    <tr>\n",
              "      <th>29</th>\n",
              "      <td>witnesses</td>\n",
              "      <td>1.047674</td>\n",
              "    </tr>\n",
              "    <tr>\n",
              "      <th>30</th>\n",
              "      <td>police_report_available</td>\n",
              "      <td>1.030652</td>\n",
              "    </tr>\n",
              "    <tr>\n",
              "      <th>31</th>\n",
              "      <td>injury_claim</td>\n",
              "      <td>2.196864</td>\n",
              "    </tr>\n",
              "    <tr>\n",
              "      <th>32</th>\n",
              "      <td>property_claim</td>\n",
              "      <td>2.259381</td>\n",
              "    </tr>\n",
              "    <tr>\n",
              "      <th>33</th>\n",
              "      <td>vehicle_claim</td>\n",
              "      <td>3.764597</td>\n",
              "    </tr>\n",
              "    <tr>\n",
              "      <th>34</th>\n",
              "      <td>auto_make</td>\n",
              "      <td>1.077269</td>\n",
              "    </tr>\n",
              "    <tr>\n",
              "      <th>35</th>\n",
              "      <td>auto_model</td>\n",
              "      <td>1.075659</td>\n",
              "    </tr>\n",
              "    <tr>\n",
              "      <th>36</th>\n",
              "      <td>auto_year</td>\n",
              "      <td>1.044723</td>\n",
              "    </tr>\n",
              "    <tr>\n",
              "      <th>37</th>\n",
              "      <td>fraud_reported</td>\n",
              "      <td>1.236327</td>\n",
              "    </tr>\n",
              "  </tbody>\n",
              "</table>\n",
              "</div>"
            ],
            "text/plain": [
              "                       Features       vif\n",
              "0            months_as_customer  6.900056\n",
              "1                           age  6.924151\n",
              "2                 policy_number  1.032789\n",
              "3              policy_bind_date  1.032846\n",
              "4                  policy_state  1.037038\n",
              "5                    policy_csl  1.033830\n",
              "6             policy_deductable  1.041684\n",
              "7         policy_annual_premium  1.041532\n",
              "8                umbrella_limit  1.039838\n",
              "9                   insured_zip  1.039000\n",
              "10                  insured_sex  1.029594\n",
              "11      insured_education_level  1.045502\n",
              "12           insured_occupation  1.021430\n",
              "13              insured_hobbies  1.052269\n",
              "14         insured_relationship  1.055014\n",
              "15                capital-gains  1.037175\n",
              "16                 capital-loss  1.043020\n",
              "17                incident_date  1.037929\n",
              "18                incident_type  5.177389\n",
              "19               collision_type  1.711373\n",
              "20            incident_severity  1.408820\n",
              "21        authorities_contacted  1.079130\n",
              "22               incident_state  1.052015\n",
              "23                incident_city  1.035472\n",
              "24            incident_location  1.042601\n",
              "25     incident_hour_of_the_day  1.105601\n",
              "26  number_of_vehicles_involved  5.188814\n",
              "27              property_damage  1.039901\n",
              "28              bodily_injuries  1.026936\n",
              "29                    witnesses  1.047674\n",
              "30      police_report_available  1.030652\n",
              "31                 injury_claim  2.196864\n",
              "32               property_claim  2.259381\n",
              "33                vehicle_claim  3.764597\n",
              "34                    auto_make  1.077269\n",
              "35                   auto_model  1.075659\n",
              "36                    auto_year  1.044723\n",
              "37               fraud_reported  1.236327"
            ]
          },
          "metadata": {},
          "execution_count": 159
        }
      ]
    },
    {
      "cell_type": "markdown",
      "metadata": {
        "id": "CXK71m1P6SBk"
      },
      "source": [
        "Now, VIF is less than 10 for all the features, so there is no problem of multicollinearity"
      ]
    },
    {
      "cell_type": "code",
      "metadata": {
        "id": "sTFsPWwFpCLw"
      },
      "source": [
        "Y = data1['fraud_reported']\n",
        "X = data1.drop(columns = ['fraud_reported'])"
      ],
      "execution_count": 161,
      "outputs": []
    },
    {
      "cell_type": "markdown",
      "metadata": {
        "id": "m0fs_ajr6YhM"
      },
      "source": [
        "Spliting the data"
      ]
    },
    {
      "cell_type": "code",
      "metadata": {
        "colab": {
          "base_uri": "https://localhost:8080/"
        },
        "id": "lsA5LSPWnGDR",
        "outputId": "7c60ddf3-8731-4440-8ec2-44ed5d7e4402"
      },
      "source": [
        "#Handling class imbalance problem by oversampling the minority classes.\n",
        "\n",
        "from imblearn.over_sampling import SMOTE\n",
        "SM = SMOTE()\n",
        "X_over, Y_over = SM.fit_resample(X,Y)"
      ],
      "execution_count": 162,
      "outputs": [
        {
          "output_type": "stream",
          "name": "stderr",
          "text": [
            "/usr/local/lib/python3.7/dist-packages/sklearn/utils/deprecation.py:87: FutureWarning: Function safe_indexing is deprecated; safe_indexing is deprecated in version 0.22 and will be removed in version 0.24.\n",
            "  warnings.warn(msg, category=FutureWarning)\n"
          ]
        }
      ]
    },
    {
      "cell_type": "markdown",
      "metadata": {
        "id": "X0Qtcqhl6bwu"
      },
      "source": [
        "Applied oversampling"
      ]
    },
    {
      "cell_type": "code",
      "metadata": {
        "colab": {
          "base_uri": "https://localhost:8080/",
          "height": 321
        },
        "id": "qG6Ph6-9paAw",
        "outputId": "8278e280-43a9-4978-e3f7-ed53cd5f8b47"
      },
      "source": [
        "pd.DataFrame(Y_over).value_counts().plot(kind='bar', title='fraud_reported', color=['r','b'])"
      ],
      "execution_count": 164,
      "outputs": [
        {
          "output_type": "execute_result",
          "data": {
            "text/plain": [
              "<matplotlib.axes._subplots.AxesSubplot at 0x7f0c3e854690>"
            ]
          },
          "metadata": {},
          "execution_count": 164
        },
        {
          "output_type": "display_data",
          "data": {
            "image/png": "[encoded data removed]",
            "text/plain": [
              "<Figure size 432x288 with 1 Axes>"
            ]
          },
          "metadata": {
            "needs_background": "light"
          }
        }
      ]
    },
    {
      "cell_type": "markdown",
      "metadata": {
        "id": "XwddmVP56fGn"
      },
      "source": [
        "dealt with the problem of class imbalance"
      ]
    },
    {
      "cell_type": "code",
      "metadata": {
        "colab": {
          "base_uri": "https://localhost:8080/"
        },
        "id": "frvKAeTfpm3D",
        "outputId": "09d0d0d7-b6c8-4bca-e6aa-4f1cc6f75396"
      },
      "source": [
        "y = pd.Series(Y_over)\n",
        "y"
      ],
      "execution_count": 165,
      "outputs": [
        {
          "output_type": "execute_result",
          "data": {
            "text/plain": [
              "0       1\n",
              "1       1\n",
              "2       0\n",
              "3       1\n",
              "4       0\n",
              "       ..\n",
              "1475    1\n",
              "1476    1\n",
              "1477    1\n",
              "1478    1\n",
              "1479    1\n",
              "Length: 1480, dtype: int64"
            ]
          },
          "metadata": {},
          "execution_count": 165
        }
      ]
    },
    {
      "cell_type": "markdown",
      "metadata": {
        "id": "Df-LHD7T6jM-"
      },
      "source": [
        "Converted the data into series"
      ]
    },
    {
      "cell_type": "code",
      "metadata": {
        "colab": {
          "base_uri": "https://localhost:8080/",
          "height": 434
        },
        "id": "BprGaPf2pnUU",
        "outputId": "cc6d5202-5804-48b8-adcf-b8e963242660"
      },
      "source": [
        "x = pd.DataFrame(X_over)\n",
        "x"
      ],
      "execution_count": 166,
      "outputs": [
        {
          "output_type": "execute_result",
          "data": {
            "text/html": [
              "<div>\n",
              "<style scoped>\n",
              "    .dataframe tbody tr th:only-of-type {\n",
              "        vertical-align: middle;\n",
              "    }\n",
              "\n",
              "    .dataframe tbody tr th {\n",
              "        vertical-align: top;\n",
              "    }\n",
              "\n",
              "    .dataframe thead th {\n",
              "        text-align: right;\n",
              "    }\n",
              "</style>\n",
              "<table border=\"1\" class=\"dataframe\">\n",
              "  <thead>\n",
              "    <tr style=\"text-align: right;\">\n",
              "      <th></th>\n",
              "      <th>0</th>\n",
              "      <th>1</th>\n",
              "      <th>2</th>\n",
              "      <th>3</th>\n",
              "      <th>4</th>\n",
              "      <th>5</th>\n",
              "      <th>6</th>\n",
              "      <th>7</th>\n",
              "      <th>8</th>\n",
              "      <th>9</th>\n",
              "      <th>10</th>\n",
              "      <th>11</th>\n",
              "      <th>12</th>\n",
              "      <th>13</th>\n",
              "      <th>14</th>\n",
              "      <th>15</th>\n",
              "      <th>16</th>\n",
              "      <th>17</th>\n",
              "      <th>18</th>\n",
              "      <th>19</th>\n",
              "      <th>20</th>\n",
              "      <th>21</th>\n",
              "      <th>22</th>\n",
              "      <th>23</th>\n",
              "      <th>24</th>\n",
              "      <th>25</th>\n",
              "      <th>26</th>\n",
              "      <th>27</th>\n",
              "      <th>28</th>\n",
              "      <th>29</th>\n",
              "      <th>30</th>\n",
              "      <th>31</th>\n",
              "      <th>32</th>\n",
              "      <th>33</th>\n",
              "      <th>34</th>\n",
              "      <th>35</th>\n",
              "      <th>36</th>\n",
              "    </tr>\n",
              "  </thead>\n",
              "  <tbody>\n",
              "    <tr>\n",
              "      <th>0</th>\n",
              "      <td>328.000000</td>\n",
              "      <td>48.000000</td>\n",
              "      <td>521585.000000</td>\n",
              "      <td>532.000000</td>\n",
              "      <td>2.000000</td>\n",
              "      <td>1.000000</td>\n",
              "      <td>1000.000000</td>\n",
              "      <td>1406.910000</td>\n",
              "      <td>0.0</td>\n",
              "      <td>466132.000000</td>\n",
              "      <td>1.000000</td>\n",
              "      <td>4.000000</td>\n",
              "      <td>2.000000</td>\n",
              "      <td>17.000000</td>\n",
              "      <td>0.000000</td>\n",
              "      <td>53300.000000</td>\n",
              "      <td>0.000000</td>\n",
              "      <td>49.000000</td>\n",
              "      <td>2.000000</td>\n",
              "      <td>3.000000</td>\n",
              "      <td>0.000000</td>\n",
              "      <td>4.000000</td>\n",
              "      <td>4.000000</td>\n",
              "      <td>1.000000</td>\n",
              "      <td>996.000000</td>\n",
              "      <td>5.000000</td>\n",
              "      <td>1.000000</td>\n",
              "      <td>2.000000</td>\n",
              "      <td>1.000000</td>\n",
              "      <td>2.000000</td>\n",
              "      <td>2.000000</td>\n",
              "      <td>6510.000000</td>\n",
              "      <td>13020.000000</td>\n",
              "      <td>52080.000000</td>\n",
              "      <td>10.000000</td>\n",
              "      <td>1.000000</td>\n",
              "      <td>2004.000000</td>\n",
              "    </tr>\n",
              "    <tr>\n",
              "      <th>1</th>\n",
              "      <td>228.000000</td>\n",
              "      <td>42.000000</td>\n",
              "      <td>342868.000000</td>\n",
              "      <td>821.000000</td>\n",
              "      <td>1.000000</td>\n",
              "      <td>1.000000</td>\n",
              "      <td>2000.000000</td>\n",
              "      <td>1197.220000</td>\n",
              "      <td>5000000.0</td>\n",
              "      <td>468176.000000</td>\n",
              "      <td>1.000000</td>\n",
              "      <td>4.000000</td>\n",
              "      <td>6.000000</td>\n",
              "      <td>15.000000</td>\n",
              "      <td>2.000000</td>\n",
              "      <td>0.000000</td>\n",
              "      <td>0.000000</td>\n",
              "      <td>41.000000</td>\n",
              "      <td>3.000000</td>\n",
              "      <td>0.000000</td>\n",
              "      <td>1.000000</td>\n",
              "      <td>4.000000</td>\n",
              "      <td>5.000000</td>\n",
              "      <td>5.000000</td>\n",
              "      <td>628.000000</td>\n",
              "      <td>8.000000</td>\n",
              "      <td>1.000000</td>\n",
              "      <td>0.000000</td>\n",
              "      <td>0.000000</td>\n",
              "      <td>0.000000</td>\n",
              "      <td>0.000000</td>\n",
              "      <td>780.000000</td>\n",
              "      <td>780.000000</td>\n",
              "      <td>3510.000000</td>\n",
              "      <td>8.000000</td>\n",
              "      <td>12.000000</td>\n",
              "      <td>2007.000000</td>\n",
              "    </tr>\n",
              "    <tr>\n",
              "      <th>2</th>\n",
              "      <td>134.000000</td>\n",
              "      <td>29.000000</td>\n",
              "      <td>687698.000000</td>\n",
              "      <td>186.000000</td>\n",
              "      <td>2.000000</td>\n",
              "      <td>0.000000</td>\n",
              "      <td>2000.000000</td>\n",
              "      <td>1413.140000</td>\n",
              "      <td>5000000.0</td>\n",
              "      <td>430632.000000</td>\n",
              "      <td>0.000000</td>\n",
              "      <td>6.000000</td>\n",
              "      <td>11.000000</td>\n",
              "      <td>2.000000</td>\n",
              "      <td>3.000000</td>\n",
              "      <td>35100.000000</td>\n",
              "      <td>0.000000</td>\n",
              "      <td>44.000000</td>\n",
              "      <td>0.000000</td>\n",
              "      <td>2.000000</td>\n",
              "      <td>1.000000</td>\n",
              "      <td>4.000000</td>\n",
              "      <td>1.000000</td>\n",
              "      <td>1.000000</td>\n",
              "      <td>685.000000</td>\n",
              "      <td>7.000000</td>\n",
              "      <td>3.000000</td>\n",
              "      <td>1.000000</td>\n",
              "      <td>2.000000</td>\n",
              "      <td>3.000000</td>\n",
              "      <td>1.000000</td>\n",
              "      <td>7700.000000</td>\n",
              "      <td>3850.000000</td>\n",
              "      <td>23100.000000</td>\n",
              "      <td>4.000000</td>\n",
              "      <td>30.000000</td>\n",
              "      <td>2007.000000</td>\n",
              "    </tr>\n",
              "    <tr>\n",
              "      <th>3</th>\n",
              "      <td>256.000000</td>\n",
              "      <td>41.000000</td>\n",
              "      <td>227811.000000</td>\n",
              "      <td>766.000000</td>\n",
              "      <td>0.000000</td>\n",
              "      <td>1.000000</td>\n",
              "      <td>2000.000000</td>\n",
              "      <td>1415.740000</td>\n",
              "      <td>6000000.0</td>\n",
              "      <td>608117.000000</td>\n",
              "      <td>0.000000</td>\n",
              "      <td>6.000000</td>\n",
              "      <td>1.000000</td>\n",
              "      <td>2.000000</td>\n",
              "      <td>4.000000</td>\n",
              "      <td>48900.000000</td>\n",
              "      <td>-62400.000000</td>\n",
              "      <td>19.000000</td>\n",
              "      <td>2.000000</td>\n",
              "      <td>1.000000</td>\n",
              "      <td>0.000000</td>\n",
              "      <td>4.000000</td>\n",
              "      <td>2.000000</td>\n",
              "      <td>0.000000</td>\n",
              "      <td>669.000000</td>\n",
              "      <td>5.000000</td>\n",
              "      <td>1.000000</td>\n",
              "      <td>0.000000</td>\n",
              "      <td>1.000000</td>\n",
              "      <td>2.000000</td>\n",
              "      <td>1.000000</td>\n",
              "      <td>6340.000000</td>\n",
              "      <td>6340.000000</td>\n",
              "      <td>50720.000000</td>\n",
              "      <td>3.000000</td>\n",
              "      <td>34.000000</td>\n",
              "      <td>2014.000000</td>\n",
              "    </tr>\n",
              "    <tr>\n",
              "      <th>4</th>\n",
              "      <td>228.000000</td>\n",
              "      <td>44.000000</td>\n",
              "      <td>367455.000000</td>\n",
              "      <td>181.000000</td>\n",
              "      <td>0.000000</td>\n",
              "      <td>2.000000</td>\n",
              "      <td>1000.000000</td>\n",
              "      <td>1583.910000</td>\n",
              "      <td>6000000.0</td>\n",
              "      <td>610706.000000</td>\n",
              "      <td>1.000000</td>\n",
              "      <td>0.000000</td>\n",
              "      <td>11.000000</td>\n",
              "      <td>2.000000</td>\n",
              "      <td>4.000000</td>\n",
              "      <td>66000.000000</td>\n",
              "      <td>-46000.000000</td>\n",
              "      <td>34.000000</td>\n",
              "      <td>3.000000</td>\n",
              "      <td>0.000000</td>\n",
              "      <td>1.000000</td>\n",
              "      <td>2.000000</td>\n",
              "      <td>1.000000</td>\n",
              "      <td>0.000000</td>\n",
              "      <td>220.000000</td>\n",
              "      <td>20.000000</td>\n",
              "      <td>1.000000</td>\n",
              "      <td>1.000000</td>\n",
              "      <td>0.000000</td>\n",
              "      <td>1.000000</td>\n",
              "      <td>1.000000</td>\n",
              "      <td>1300.000000</td>\n",
              "      <td>650.000000</td>\n",
              "      <td>4550.000000</td>\n",
              "      <td>0.000000</td>\n",
              "      <td>31.000000</td>\n",
              "      <td>2009.000000</td>\n",
              "    </tr>\n",
              "    <tr>\n",
              "      <th>...</th>\n",
              "      <td>...</td>\n",
              "      <td>...</td>\n",
              "      <td>...</td>\n",
              "      <td>...</td>\n",
              "      <td>...</td>\n",
              "      <td>...</td>\n",
              "      <td>...</td>\n",
              "      <td>...</td>\n",
              "      <td>...</td>\n",
              "      <td>...</td>\n",
              "      <td>...</td>\n",
              "      <td>...</td>\n",
              "      <td>...</td>\n",
              "      <td>...</td>\n",
              "      <td>...</td>\n",
              "      <td>...</td>\n",
              "      <td>...</td>\n",
              "      <td>...</td>\n",
              "      <td>...</td>\n",
              "      <td>...</td>\n",
              "      <td>...</td>\n",
              "      <td>...</td>\n",
              "      <td>...</td>\n",
              "      <td>...</td>\n",
              "      <td>...</td>\n",
              "      <td>...</td>\n",
              "      <td>...</td>\n",
              "      <td>...</td>\n",
              "      <td>...</td>\n",
              "      <td>...</td>\n",
              "      <td>...</td>\n",
              "      <td>...</td>\n",
              "      <td>...</td>\n",
              "      <td>...</td>\n",
              "      <td>...</td>\n",
              "      <td>...</td>\n",
              "      <td>...</td>\n",
              "    </tr>\n",
              "    <tr>\n",
              "      <th>1475</th>\n",
              "      <td>325.383614</td>\n",
              "      <td>48.827605</td>\n",
              "      <td>449654.693007</td>\n",
              "      <td>467.101239</td>\n",
              "      <td>0.000000</td>\n",
              "      <td>1.000000</td>\n",
              "      <td>683.447895</td>\n",
              "      <td>1275.435453</td>\n",
              "      <td>0.0</td>\n",
              "      <td>457029.502769</td>\n",
              "      <td>1.000000</td>\n",
              "      <td>3.266208</td>\n",
              "      <td>5.568271</td>\n",
              "      <td>6.899313</td>\n",
              "      <td>1.733792</td>\n",
              "      <td>0.000000</td>\n",
              "      <td>-54935.017805</td>\n",
              "      <td>21.697938</td>\n",
              "      <td>1.266208</td>\n",
              "      <td>1.366896</td>\n",
              "      <td>0.366896</td>\n",
              "      <td>4.000000</td>\n",
              "      <td>1.000000</td>\n",
              "      <td>0.733792</td>\n",
              "      <td>252.348693</td>\n",
              "      <td>9.899313</td>\n",
              "      <td>1.733792</td>\n",
              "      <td>0.733792</td>\n",
              "      <td>0.366896</td>\n",
              "      <td>0.000000</td>\n",
              "      <td>0.000000</td>\n",
              "      <td>8729.842153</td>\n",
              "      <td>6194.592243</td>\n",
              "      <td>53216.080276</td>\n",
              "      <td>6.532417</td>\n",
              "      <td>26.201375</td>\n",
              "      <td>1996.266208</td>\n",
              "    </tr>\n",
              "    <tr>\n",
              "      <th>1476</th>\n",
              "      <td>206.349981</td>\n",
              "      <td>38.668118</td>\n",
              "      <td>654256.846077</td>\n",
              "      <td>872.658496</td>\n",
              "      <td>1.333257</td>\n",
              "      <td>0.666743</td>\n",
              "      <td>2000.000000</td>\n",
              "      <td>1285.417792</td>\n",
              "      <td>6000000.0</td>\n",
              "      <td>572529.065562</td>\n",
              "      <td>0.000000</td>\n",
              "      <td>3.666743</td>\n",
              "      <td>6.000229</td>\n",
              "      <td>7.332341</td>\n",
              "      <td>4.333257</td>\n",
              "      <td>40737.999254</td>\n",
              "      <td>-38398.235961</td>\n",
              "      <td>24.666285</td>\n",
              "      <td>0.000000</td>\n",
              "      <td>2.000000</td>\n",
              "      <td>0.000000</td>\n",
              "      <td>2.333486</td>\n",
              "      <td>4.333257</td>\n",
              "      <td>0.666514</td>\n",
              "      <td>549.028179</td>\n",
              "      <td>19.333715</td>\n",
              "      <td>2.666743</td>\n",
              "      <td>0.666514</td>\n",
              "      <td>1.000000</td>\n",
              "      <td>0.000000</td>\n",
              "      <td>0.333257</td>\n",
              "      <td>11386.600993</td>\n",
              "      <td>9393.724324</td>\n",
              "      <td>37860.226805</td>\n",
              "      <td>4.333257</td>\n",
              "      <td>24.667889</td>\n",
              "      <td>2012.333028</td>\n",
              "    </tr>\n",
              "    <tr>\n",
              "      <th>1477</th>\n",
              "      <td>257.064283</td>\n",
              "      <td>43.917236</td>\n",
              "      <td>918860.723534</td>\n",
              "      <td>580.211158</td>\n",
              "      <td>1.000000</td>\n",
              "      <td>0.670608</td>\n",
              "      <td>994.088274</td>\n",
              "      <td>1289.006249</td>\n",
              "      <td>0.0</td>\n",
              "      <td>470445.165532</td>\n",
              "      <td>0.000000</td>\n",
              "      <td>1.317569</td>\n",
              "      <td>10.988177</td>\n",
              "      <td>7.976353</td>\n",
              "      <td>3.341216</td>\n",
              "      <td>47853.888536</td>\n",
              "      <td>0.000000</td>\n",
              "      <td>38.893589</td>\n",
              "      <td>0.000000</td>\n",
              "      <td>2.329392</td>\n",
              "      <td>1.341216</td>\n",
              "      <td>1.658784</td>\n",
              "      <td>4.658784</td>\n",
              "      <td>0.658784</td>\n",
              "      <td>746.452792</td>\n",
              "      <td>13.341216</td>\n",
              "      <td>3.329392</td>\n",
              "      <td>1.329392</td>\n",
              "      <td>0.670608</td>\n",
              "      <td>1.341216</td>\n",
              "      <td>1.670608</td>\n",
              "      <td>7428.497962</td>\n",
              "      <td>7428.497962</td>\n",
              "      <td>45567.160651</td>\n",
              "      <td>6.035470</td>\n",
              "      <td>25.011823</td>\n",
              "      <td>1998.329392</td>\n",
              "    </tr>\n",
              "    <tr>\n",
              "      <th>1478</th>\n",
              "      <td>295.063646</td>\n",
              "      <td>46.898773</td>\n",
              "      <td>264093.569734</td>\n",
              "      <td>552.710108</td>\n",
              "      <td>0.000000</td>\n",
              "      <td>0.506327</td>\n",
              "      <td>1493.673284</td>\n",
              "      <td>1104.098362</td>\n",
              "      <td>0.0</td>\n",
              "      <td>451169.079586</td>\n",
              "      <td>1.000000</td>\n",
              "      <td>2.000000</td>\n",
              "      <td>4.949386</td>\n",
              "      <td>11.481020</td>\n",
              "      <td>2.506327</td>\n",
              "      <td>80345.533405</td>\n",
              "      <td>-59592.445836</td>\n",
              "      <td>19.481020</td>\n",
              "      <td>0.000000</td>\n",
              "      <td>1.493673</td>\n",
              "      <td>0.000000</td>\n",
              "      <td>0.506327</td>\n",
              "      <td>4.000000</td>\n",
              "      <td>4.025307</td>\n",
              "      <td>271.341264</td>\n",
              "      <td>20.506327</td>\n",
              "      <td>3.000000</td>\n",
              "      <td>0.493673</td>\n",
              "      <td>0.506327</td>\n",
              "      <td>0.000000</td>\n",
              "      <td>1.493673</td>\n",
              "      <td>16249.627976</td>\n",
              "      <td>10365.042425</td>\n",
              "      <td>53229.340802</td>\n",
              "      <td>8.974693</td>\n",
              "      <td>25.632861</td>\n",
              "      <td>1999.493673</td>\n",
              "    </tr>\n",
              "    <tr>\n",
              "      <th>1479</th>\n",
              "      <td>146.123265</td>\n",
              "      <td>36.374010</td>\n",
              "      <td>381221.098630</td>\n",
              "      <td>293.560651</td>\n",
              "      <td>1.069554</td>\n",
              "      <td>1.000000</td>\n",
              "      <td>604.331710</td>\n",
              "      <td>1125.240135</td>\n",
              "      <td>0.0</td>\n",
              "      <td>607864.011266</td>\n",
              "      <td>0.930446</td>\n",
              "      <td>1.860891</td>\n",
              "      <td>2.930446</td>\n",
              "      <td>8.513119</td>\n",
              "      <td>4.000000</td>\n",
              "      <td>0.000000</td>\n",
              "      <td>-50068.093613</td>\n",
              "      <td>30.791337</td>\n",
              "      <td>0.139109</td>\n",
              "      <td>2.000000</td>\n",
              "      <td>0.930446</td>\n",
              "      <td>3.791337</td>\n",
              "      <td>0.417327</td>\n",
              "      <td>1.278218</td>\n",
              "      <td>702.328222</td>\n",
              "      <td>16.139109</td>\n",
              "      <td>3.791337</td>\n",
              "      <td>0.000000</td>\n",
              "      <td>1.069554</td>\n",
              "      <td>1.930446</td>\n",
              "      <td>2.000000</td>\n",
              "      <td>5870.005087</td>\n",
              "      <td>5870.005087</td>\n",
              "      <td>42903.623810</td>\n",
              "      <td>5.652228</td>\n",
              "      <td>9.652228</td>\n",
              "      <td>2010.139109</td>\n",
              "    </tr>\n",
              "  </tbody>\n",
              "</table>\n",
              "<p>1480 rows × 37 columns</p>\n",
              "</div>"
            ],
            "text/plain": [
              "              0          1              2   ...         34         35           36\n",
              "0     328.000000  48.000000  521585.000000  ...  10.000000   1.000000  2004.000000\n",
              "1     228.000000  42.000000  342868.000000  ...   8.000000  12.000000  2007.000000\n",
              "2     134.000000  29.000000  687698.000000  ...   4.000000  30.000000  2007.000000\n",
              "3     256.000000  41.000000  227811.000000  ...   3.000000  34.000000  2014.000000\n",
              "4     228.000000  44.000000  367455.000000  ...   0.000000  31.000000  2009.000000\n",
              "...          ...        ...            ...  ...        ...        ...          ...\n",
              "1475  325.383614  48.827605  449654.693007  ...   6.532417  26.201375  1996.266208\n",
              "1476  206.349981  38.668118  654256.846077  ...   4.333257  24.667889  2012.333028\n",
              "1477  257.064283  43.917236  918860.723534  ...   6.035470  25.011823  1998.329392\n",
              "1478  295.063646  46.898773  264093.569734  ...   8.974693  25.632861  1999.493673\n",
              "1479  146.123265  36.374010  381221.098630  ...   5.652228   9.652228  2010.139109\n",
              "\n",
              "[1480 rows x 37 columns]"
            ]
          },
          "metadata": {},
          "execution_count": 166
        }
      ]
    },
    {
      "cell_type": "markdown",
      "metadata": {
        "id": "Z8VerJm06meH"
      },
      "source": [
        "Converted the data into dataframe"
      ]
    },
    {
      "cell_type": "code",
      "metadata": {
        "colab": {
          "base_uri": "https://localhost:8080/",
          "height": 238
        },
        "id": "mZ91bVNEp8s7",
        "outputId": "ab7caedb-f960-4c04-be2e-d070b37f6eee"
      },
      "source": [
        "x1.columns = ['months_as_customer', 'age', 'policy_number', 'policy_bind_date',\n",
        "       'policy_state', 'policy_csl', 'policy_deductable',\n",
        "       'policy_annual_premium', 'umbrella_limit', 'insured_zip', 'insured_sex',\n",
        "       'insured_education_level', 'insured_occupation', 'insured_hobbies',\n",
        "       'insured_relationship', 'capital-gains', 'capital-loss',\n",
        "       'incident_date', 'incident_type', 'collision_type', 'incident_severity',\n",
        "       'authorities_contacted', 'incident_state', 'incident_city',\n",
        "       'incident_location', 'incident_hour_of_the_day',\n",
        "       'number_of_vehicles_involved', 'property_damage', 'bodily_injuries',\n",
        "       'witnesses', 'police_report_available', 'injury_claim',\n",
        "       'property_claim', 'vehicle_claim', 'auto_make', 'auto_model',\n",
        "       'auto_year']\n",
        "x1.head()"
      ],
      "execution_count": 169,
      "outputs": [
        {
          "output_type": "execute_result",
          "data": {
            "text/html": [
              "<div>\n",
              "<style scoped>\n",
              "    .dataframe tbody tr th:only-of-type {\n",
              "        vertical-align: middle;\n",
              "    }\n",
              "\n",
              "    .dataframe tbody tr th {\n",
              "        vertical-align: top;\n",
              "    }\n",
              "\n",
              "    .dataframe thead th {\n",
              "        text-align: right;\n",
              "    }\n",
              "</style>\n",
              "<table border=\"1\" class=\"dataframe\">\n",
              "  <thead>\n",
              "    <tr style=\"text-align: right;\">\n",
              "      <th></th>\n",
              "      <th>months_as_customer</th>\n",
              "      <th>age</th>\n",
              "      <th>policy_number</th>\n",
              "      <th>policy_bind_date</th>\n",
              "      <th>policy_state</th>\n",
              "      <th>policy_csl</th>\n",
              "      <th>policy_deductable</th>\n",
              "      <th>policy_annual_premium</th>\n",
              "      <th>umbrella_limit</th>\n",
              "      <th>insured_zip</th>\n",
              "      <th>insured_sex</th>\n",
              "      <th>insured_education_level</th>\n",
              "      <th>insured_occupation</th>\n",
              "      <th>insured_hobbies</th>\n",
              "      <th>insured_relationship</th>\n",
              "      <th>capital-gains</th>\n",
              "      <th>capital-loss</th>\n",
              "      <th>incident_date</th>\n",
              "      <th>incident_type</th>\n",
              "      <th>collision_type</th>\n",
              "      <th>incident_severity</th>\n",
              "      <th>authorities_contacted</th>\n",
              "      <th>incident_state</th>\n",
              "      <th>incident_city</th>\n",
              "      <th>incident_location</th>\n",
              "      <th>incident_hour_of_the_day</th>\n",
              "      <th>number_of_vehicles_involved</th>\n",
              "      <th>property_damage</th>\n",
              "      <th>bodily_injuries</th>\n",
              "      <th>witnesses</th>\n",
              "      <th>police_report_available</th>\n",
              "      <th>injury_claim</th>\n",
              "      <th>property_claim</th>\n",
              "      <th>vehicle_claim</th>\n",
              "      <th>auto_make</th>\n",
              "      <th>auto_model</th>\n",
              "      <th>auto_year</th>\n",
              "    </tr>\n",
              "  </thead>\n",
              "  <tbody>\n",
              "    <tr>\n",
              "      <th>0</th>\n",
              "      <td>328.0</td>\n",
              "      <td>48.0</td>\n",
              "      <td>521585.0</td>\n",
              "      <td>532.0</td>\n",
              "      <td>2.0</td>\n",
              "      <td>1.0</td>\n",
              "      <td>1000.0</td>\n",
              "      <td>1406.91</td>\n",
              "      <td>0.0</td>\n",
              "      <td>466132.0</td>\n",
              "      <td>1.0</td>\n",
              "      <td>4.0</td>\n",
              "      <td>2.0</td>\n",
              "      <td>17.0</td>\n",
              "      <td>0.0</td>\n",
              "      <td>53300.0</td>\n",
              "      <td>0.0</td>\n",
              "      <td>49.0</td>\n",
              "      <td>2.0</td>\n",
              "      <td>3.0</td>\n",
              "      <td>0.0</td>\n",
              "      <td>4.0</td>\n",
              "      <td>4.0</td>\n",
              "      <td>1.0</td>\n",
              "      <td>996.0</td>\n",
              "      <td>5.0</td>\n",
              "      <td>1.0</td>\n",
              "      <td>2.0</td>\n",
              "      <td>1.0</td>\n",
              "      <td>2.0</td>\n",
              "      <td>2.0</td>\n",
              "      <td>6510.0</td>\n",
              "      <td>13020.0</td>\n",
              "      <td>52080.0</td>\n",
              "      <td>10.0</td>\n",
              "      <td>1.0</td>\n",
              "      <td>2004.0</td>\n",
              "    </tr>\n",
              "    <tr>\n",
              "      <th>1</th>\n",
              "      <td>228.0</td>\n",
              "      <td>42.0</td>\n",
              "      <td>342868.0</td>\n",
              "      <td>821.0</td>\n",
              "      <td>1.0</td>\n",
              "      <td>1.0</td>\n",
              "      <td>2000.0</td>\n",
              "      <td>1197.22</td>\n",
              "      <td>5000000.0</td>\n",
              "      <td>468176.0</td>\n",
              "      <td>1.0</td>\n",
              "      <td>4.0</td>\n",
              "      <td>6.0</td>\n",
              "      <td>15.0</td>\n",
              "      <td>2.0</td>\n",
              "      <td>0.0</td>\n",
              "      <td>0.0</td>\n",
              "      <td>41.0</td>\n",
              "      <td>3.0</td>\n",
              "      <td>0.0</td>\n",
              "      <td>1.0</td>\n",
              "      <td>4.0</td>\n",
              "      <td>5.0</td>\n",
              "      <td>5.0</td>\n",
              "      <td>628.0</td>\n",
              "      <td>8.0</td>\n",
              "      <td>1.0</td>\n",
              "      <td>0.0</td>\n",
              "      <td>0.0</td>\n",
              "      <td>0.0</td>\n",
              "      <td>0.0</td>\n",
              "      <td>780.0</td>\n",
              "      <td>780.0</td>\n",
              "      <td>3510.0</td>\n",
              "      <td>8.0</td>\n",
              "      <td>12.0</td>\n",
              "      <td>2007.0</td>\n",
              "    </tr>\n",
              "    <tr>\n",
              "      <th>2</th>\n",
              "      <td>134.0</td>\n",
              "      <td>29.0</td>\n",
              "      <td>687698.0</td>\n",
              "      <td>186.0</td>\n",
              "      <td>2.0</td>\n",
              "      <td>0.0</td>\n",
              "      <td>2000.0</td>\n",
              "      <td>1413.14</td>\n",
              "      <td>5000000.0</td>\n",
              "      <td>430632.0</td>\n",
              "      <td>0.0</td>\n",
              "      <td>6.0</td>\n",
              "      <td>11.0</td>\n",
              "      <td>2.0</td>\n",
              "      <td>3.0</td>\n",
              "      <td>35100.0</td>\n",
              "      <td>0.0</td>\n",
              "      <td>44.0</td>\n",
              "      <td>0.0</td>\n",
              "      <td>2.0</td>\n",
              "      <td>1.0</td>\n",
              "      <td>4.0</td>\n",
              "      <td>1.0</td>\n",
              "      <td>1.0</td>\n",
              "      <td>685.0</td>\n",
              "      <td>7.0</td>\n",
              "      <td>3.0</td>\n",
              "      <td>1.0</td>\n",
              "      <td>2.0</td>\n",
              "      <td>3.0</td>\n",
              "      <td>1.0</td>\n",
              "      <td>7700.0</td>\n",
              "      <td>3850.0</td>\n",
              "      <td>23100.0</td>\n",
              "      <td>4.0</td>\n",
              "      <td>30.0</td>\n",
              "      <td>2007.0</td>\n",
              "    </tr>\n",
              "    <tr>\n",
              "      <th>3</th>\n",
              "      <td>256.0</td>\n",
              "      <td>41.0</td>\n",
              "      <td>227811.0</td>\n",
              "      <td>766.0</td>\n",
              "      <td>0.0</td>\n",
              "      <td>1.0</td>\n",
              "      <td>2000.0</td>\n",
              "      <td>1415.74</td>\n",
              "      <td>6000000.0</td>\n",
              "      <td>608117.0</td>\n",
              "      <td>0.0</td>\n",
              "      <td>6.0</td>\n",
              "      <td>1.0</td>\n",
              "      <td>2.0</td>\n",
              "      <td>4.0</td>\n",
              "      <td>48900.0</td>\n",
              "      <td>-62400.0</td>\n",
              "      <td>19.0</td>\n",
              "      <td>2.0</td>\n",
              "      <td>1.0</td>\n",
              "      <td>0.0</td>\n",
              "      <td>4.0</td>\n",
              "      <td>2.0</td>\n",
              "      <td>0.0</td>\n",
              "      <td>669.0</td>\n",
              "      <td>5.0</td>\n",
              "      <td>1.0</td>\n",
              "      <td>0.0</td>\n",
              "      <td>1.0</td>\n",
              "      <td>2.0</td>\n",
              "      <td>1.0</td>\n",
              "      <td>6340.0</td>\n",
              "      <td>6340.0</td>\n",
              "      <td>50720.0</td>\n",
              "      <td>3.0</td>\n",
              "      <td>34.0</td>\n",
              "      <td>2014.0</td>\n",
              "    </tr>\n",
              "    <tr>\n",
              "      <th>4</th>\n",
              "      <td>228.0</td>\n",
              "      <td>44.0</td>\n",
              "      <td>367455.0</td>\n",
              "      <td>181.0</td>\n",
              "      <td>0.0</td>\n",
              "      <td>2.0</td>\n",
              "      <td>1000.0</td>\n",
              "      <td>1583.91</td>\n",
              "      <td>6000000.0</td>\n",
              "      <td>610706.0</td>\n",
              "      <td>1.0</td>\n",
              "      <td>0.0</td>\n",
              "      <td>11.0</td>\n",
              "      <td>2.0</td>\n",
              "      <td>4.0</td>\n",
              "      <td>66000.0</td>\n",
              "      <td>-46000.0</td>\n",
              "      <td>34.0</td>\n",
              "      <td>3.0</td>\n",
              "      <td>0.0</td>\n",
              "      <td>1.0</td>\n",
              "      <td>2.0</td>\n",
              "      <td>1.0</td>\n",
              "      <td>0.0</td>\n",
              "      <td>220.0</td>\n",
              "      <td>20.0</td>\n",
              "      <td>1.0</td>\n",
              "      <td>1.0</td>\n",
              "      <td>0.0</td>\n",
              "      <td>1.0</td>\n",
              "      <td>1.0</td>\n",
              "      <td>1300.0</td>\n",
              "      <td>650.0</td>\n",
              "      <td>4550.0</td>\n",
              "      <td>0.0</td>\n",
              "      <td>31.0</td>\n",
              "      <td>2009.0</td>\n",
              "    </tr>\n",
              "  </tbody>\n",
              "</table>\n",
              "</div>"
            ],
            "text/plain": [
              "   months_as_customer   age  policy_number  ...  auto_make  auto_model  auto_year\n",
              "0               328.0  48.0       521585.0  ...       10.0         1.0     2004.0\n",
              "1               228.0  42.0       342868.0  ...        8.0        12.0     2007.0\n",
              "2               134.0  29.0       687698.0  ...        4.0        30.0     2007.0\n",
              "3               256.0  41.0       227811.0  ...        3.0        34.0     2014.0\n",
              "4               228.0  44.0       367455.0  ...        0.0        31.0     2009.0\n",
              "\n",
              "[5 rows x 37 columns]"
            ]
          },
          "metadata": {},
          "execution_count": 169
        }
      ]
    },
    {
      "cell_type": "markdown",
      "metadata": {
        "id": "SNrQtzGL6uGp"
      },
      "source": [
        "Changed the name of the columns"
      ]
    },
    {
      "cell_type": "code",
      "metadata": {
        "id": "JchSvpRtp8JG"
      },
      "source": [
        "knn = KNeighborsClassifier()\n",
        "rf = RandomForestClassifier()\n",
        "dtc = DecisionTreeClassifier()\n",
        "gb = GradientBoostingClassifier()"
      ],
      "execution_count": 172,
      "outputs": []
    },
    {
      "cell_type": "markdown",
      "metadata": {
        "id": "o_R5mTbO6zCA"
      },
      "source": [
        "Initialized the classifiers"
      ]
    },
    {
      "cell_type": "code",
      "metadata": {
        "colab": {
          "base_uri": "https://localhost:8080/",
          "height": 171
        },
        "id": "3mPgxsB8rFD6",
        "outputId": "aca34b0a-f596-45f1-e29a-d8094b4b6a8c"
      },
      "source": [
        "#Model Building\n",
        "\n",
        "X_train, X_test, y_train, y_test = train_test_split(\n",
        "    x1, y, test_size=0.25, random_state=42)\n",
        "models = [KNeighborsClassifier(), RandomForestClassifier(),\n",
        "          DecisionTreeClassifier(), GradientBoostingClassifier()]\n",
        "model_names = ['KNearestNeighbors', 'RandomForestClassifier', 'DecisionTree',\n",
        "               'GradientBoostingClassifier']\n",
        "\n",
        "acc = []\n",
        "\n",
        "for model in range(len(models)):\n",
        "    clf = models[model]\n",
        "    clf.fit(X_train, y_train)\n",
        "    pred = clf.predict(X_test)\n",
        "    acc.append(accuracy_score(pred, y_test))\n",
        "\n",
        "models = {'Modelling Algorithm': model_names, 'Accuracy': acc}\n",
        "models_df = pd.DataFrame(models)\n",
        "models_df"
      ],
      "execution_count": 174,
      "outputs": [
        {
          "output_type": "execute_result",
          "data": {
            "text/html": [
              "<div>\n",
              "<style scoped>\n",
              "    .dataframe tbody tr th:only-of-type {\n",
              "        vertical-align: middle;\n",
              "    }\n",
              "\n",
              "    .dataframe tbody tr th {\n",
              "        vertical-align: top;\n",
              "    }\n",
              "\n",
              "    .dataframe thead th {\n",
              "        text-align: right;\n",
              "    }\n",
              "</style>\n",
              "<table border=\"1\" class=\"dataframe\">\n",
              "  <thead>\n",
              "    <tr style=\"text-align: right;\">\n",
              "      <th></th>\n",
              "      <th>Modelling Algorithm</th>\n",
              "      <th>Accuracy</th>\n",
              "    </tr>\n",
              "  </thead>\n",
              "  <tbody>\n",
              "    <tr>\n",
              "      <th>0</th>\n",
              "      <td>KNearestNeighbors</td>\n",
              "      <td>0.745946</td>\n",
              "    </tr>\n",
              "    <tr>\n",
              "      <th>1</th>\n",
              "      <td>RandomForestClassifier</td>\n",
              "      <td>0.886486</td>\n",
              "    </tr>\n",
              "    <tr>\n",
              "      <th>2</th>\n",
              "      <td>DecisionTree</td>\n",
              "      <td>0.824324</td>\n",
              "    </tr>\n",
              "    <tr>\n",
              "      <th>3</th>\n",
              "      <td>GradientBoostingClassifier</td>\n",
              "      <td>0.894595</td>\n",
              "    </tr>\n",
              "  </tbody>\n",
              "</table>\n",
              "</div>"
            ],
            "text/plain": [
              "          Modelling Algorithm  Accuracy\n",
              "0           KNearestNeighbors  0.745946\n",
              "1      RandomForestClassifier  0.886486\n",
              "2                DecisionTree  0.824324\n",
              "3  GradientBoostingClassifier  0.894595"
            ]
          },
          "metadata": {},
          "execution_count": 174
        }
      ]
    },
    {
      "cell_type": "markdown",
      "metadata": {
        "id": "QvgXlzMM61wL"
      },
      "source": [
        "Trained the model and received the accuracy score"
      ]
    },
    {
      "cell_type": "code",
      "metadata": {
        "colab": {
          "base_uri": "https://localhost:8080/"
        },
        "id": "86vYAFHrqwOo",
        "outputId": "52d76a89-c0e6-497a-ae27-cdffd45e436d"
      },
      "source": [
        "#Train the model using the training sets\n",
        "knn.fit(X_train, y_train)\n",
        "\n",
        "#Predict the response for test dataset\n",
        "y_pred = knn.predict(X_test)\n",
        "\n",
        "#Import scikit-learn metrics module for accuracy calculation\n",
        "from sklearn import metrics\n",
        "# Model Accuracy, how often is the classifier correct?\n",
        "print(\"Accuracy:\",metrics.accuracy_score(y_test, y_pred))\n",
        "# Model Precision\n",
        "print(\"Precision:\",metrics.precision_score(y_test, y_pred))\n",
        "# Model Recall\n",
        "print(\"Recall:\",metrics.recall_score(y_test, y_pred))\n",
        "#Classification report\n",
        "print(\"Classification report:\\n\", metrics.classification_report(y_test, y_pred))"
      ],
      "execution_count": 175,
      "outputs": [
        {
          "output_type": "stream",
          "name": "stdout",
          "text": [
            "Accuracy: 0.745945945945946\n",
            "Precision: 0.7397260273972602\n",
            "Recall: 0.8140703517587939\n",
            "Classification report:\n",
            "               precision    recall  f1-score   support\n",
            "\n",
            "           0       0.75      0.67      0.71       171\n",
            "           1       0.74      0.81      0.78       199\n",
            "\n",
            "    accuracy                           0.75       370\n",
            "   macro avg       0.75      0.74      0.74       370\n",
            "weighted avg       0.75      0.75      0.74       370\n",
            "\n"
          ]
        }
      ]
    },
    {
      "cell_type": "markdown",
      "metadata": {
        "id": "i6bQjIlL68Bb"
      },
      "source": [
        "classification report of knn"
      ]
    },
    {
      "cell_type": "code",
      "metadata": {
        "colab": {
          "base_uri": "https://localhost:8080/"
        },
        "id": "juCm-6VwqwJt",
        "outputId": "cbeb59fc-7a94-49e2-a98e-31456fa08de5"
      },
      "source": [
        "#Train the model using the training sets\n",
        "rf.fit(X_train, y_train)\n",
        "\n",
        "#Predict the response for test dataset\n",
        "y_pred = rf.predict(X_test)\n",
        "\n",
        "#Import scikit-learn metrics module for accuracy calculation\n",
        "from sklearn import metrics\n",
        "# Model Accuracy, how often is the classifier correct?\n",
        "print(\"Accuracy:\",metrics.accuracy_score(y_test, y_pred))\n",
        "# Model Precision\n",
        "print(\"Precision:\",metrics.precision_score(y_test, y_pred))\n",
        "# Model Recall\n",
        "print(\"Recall:\",metrics.recall_score(y_test, y_pred))\n",
        "#Classification report\n",
        "print(\"Classification report:\\n\", metrics.classification_report(y_test, y_pred))"
      ],
      "execution_count": 176,
      "outputs": [
        {
          "output_type": "stream",
          "name": "stdout",
          "text": [
            "Accuracy: 0.8810810810810811\n",
            "Precision: 0.91005291005291\n",
            "Recall: 0.864321608040201\n",
            "Classification report:\n",
            "               precision    recall  f1-score   support\n",
            "\n",
            "           0       0.85      0.90      0.88       171\n",
            "           1       0.91      0.86      0.89       199\n",
            "\n",
            "    accuracy                           0.88       370\n",
            "   macro avg       0.88      0.88      0.88       370\n",
            "weighted avg       0.88      0.88      0.88       370\n",
            "\n"
          ]
        }
      ]
    },
    {
      "cell_type": "markdown",
      "metadata": {
        "id": "WvH1GdH97AAI"
      },
      "source": [
        "classification report of rf"
      ]
    },
    {
      "cell_type": "code",
      "metadata": {
        "colab": {
          "base_uri": "https://localhost:8080/"
        },
        "id": "XrTReXUvqwE2",
        "outputId": "84cf5c2a-9d9d-44f0-bfd4-78898cb30656"
      },
      "source": [
        "#Train the model using the training sets\n",
        "dtc.fit(X_train, y_train)\n",
        "\n",
        "#Predict the response for test dataset\n",
        "y_pred = dtc.predict(X_test)\n",
        "\n",
        "#Import scikit-learn metrics module for accuracy calculation\n",
        "from sklearn import metrics\n",
        "# Model Accuracy, how often is the classifier correct?\n",
        "print(\"Accuracy:\",metrics.accuracy_score(y_test, y_pred))\n",
        "# Model Precision\n",
        "print(\"Precision:\",metrics.precision_score(y_test, y_pred))\n",
        "# Model Recall\n",
        "print(\"Recall:\",metrics.recall_score(y_test, y_pred))\n",
        "#Classification report\n",
        "print(\"Classification report:\\n\", metrics.classification_report(y_test, y_pred))"
      ],
      "execution_count": 177,
      "outputs": [
        {
          "output_type": "stream",
          "name": "stdout",
          "text": [
            "Accuracy: 0.8297297297297297\n",
            "Precision: 0.8366336633663366\n",
            "Recall: 0.8492462311557789\n",
            "Classification report:\n",
            "               precision    recall  f1-score   support\n",
            "\n",
            "           0       0.82      0.81      0.81       171\n",
            "           1       0.84      0.85      0.84       199\n",
            "\n",
            "    accuracy                           0.83       370\n",
            "   macro avg       0.83      0.83      0.83       370\n",
            "weighted avg       0.83      0.83      0.83       370\n",
            "\n"
          ]
        }
      ]
    },
    {
      "cell_type": "markdown",
      "metadata": {
        "id": "gmTRGTEh7Dqe"
      },
      "source": [
        "classification report of dtc"
      ]
    },
    {
      "cell_type": "code",
      "metadata": {
        "colab": {
          "base_uri": "https://localhost:8080/"
        },
        "id": "PXA29HLzqv9l",
        "outputId": "beafb690-657b-4b05-b6a0-31b6f5caf461"
      },
      "source": [
        "#Train the model using the training sets\n",
        "gb.fit(X_train, y_train)\n",
        "\n",
        "#Predict the response for test dataset\n",
        "y_pred = gb.predict(X_test)\n",
        "\n",
        "#Import scikit-learn metrics module for accuracy calculation\n",
        "from sklearn import metrics\n",
        "# Model Accuracy, how often is the classifier correct?\n",
        "print(\"Accuracy:\",metrics.accuracy_score(y_test, y_pred))\n",
        "# Model Precision\n",
        "print(\"Precision:\",metrics.precision_score(y_test, y_pred))\n",
        "# Model Recall\n",
        "print(\"Recall:\",metrics.recall_score(y_test, y_pred))\n",
        "#Classification report\n",
        "print(\"Classification report:\\n\", metrics.classification_report(y_test, y_pred))"
      ],
      "execution_count": 178,
      "outputs": [
        {
          "output_type": "stream",
          "name": "stdout",
          "text": [
            "Accuracy: 0.8945945945945946\n",
            "Precision: 0.9040404040404041\n",
            "Recall: 0.8994974874371859\n",
            "Classification report:\n",
            "               precision    recall  f1-score   support\n",
            "\n",
            "           0       0.88      0.89      0.89       171\n",
            "           1       0.90      0.90      0.90       199\n",
            "\n",
            "    accuracy                           0.89       370\n",
            "   macro avg       0.89      0.89      0.89       370\n",
            "weighted avg       0.89      0.89      0.89       370\n",
            "\n"
          ]
        }
      ]
    },
    {
      "cell_type": "markdown",
      "metadata": {
        "id": "qzq24j4x7Kcu"
      },
      "source": [
        "classification report of gb"
      ]
    },
    {
      "cell_type": "code",
      "metadata": {
        "id": "o7zUn111qv23"
      },
      "source": [
        "from sklearn.metrics import confusion_matrix\n",
        "from sklearn.metrics import roc_curve, roc_auc_score"
      ],
      "execution_count": 179,
      "outputs": []
    },
    {
      "cell_type": "markdown",
      "metadata": {
        "id": "LUUWbFoB7ML2"
      },
      "source": [
        "Imported the libraries"
      ]
    },
    {
      "cell_type": "code",
      "metadata": {
        "colab": {
          "base_uri": "https://localhost:8080/"
        },
        "id": "oQnhS4uOqvwg",
        "outputId": "fe4b29c8-f39c-4840-c505-829187c7e61d"
      },
      "source": [
        "X1_train, X1_test, y1_train, y1_test = train_test_split(\n",
        "    x1, y, test_size=0.25, random_state=50)\n",
        "\n",
        "knn = KNeighborsClassifier()\n",
        "knn.fit(X1_train,y1_train)\n",
        "\n",
        "y1_pred = knn.predict(X1_test)\n",
        "conf_mat1 = confusion_matrix(y1_test,y1_pred)\n",
        "conf_mat1"
      ],
      "execution_count": 180,
      "outputs": [
        {
          "output_type": "execute_result",
          "data": {
            "text/plain": [
              "array([[ 87,  86],\n",
              "       [ 33, 164]])"
            ]
          },
          "metadata": {},
          "execution_count": 180
        }
      ]
    },
    {
      "cell_type": "markdown",
      "metadata": {
        "id": "PYyFC9Ra7P5X"
      },
      "source": [
        "confusion matrix of knn"
      ]
    },
    {
      "cell_type": "code",
      "metadata": {
        "colab": {
          "base_uri": "https://localhost:8080/"
        },
        "id": "-lN_2FhbqvpA",
        "outputId": "a699f5cc-bc43-4974-c66e-617260c94a8e"
      },
      "source": [
        "true_positive1 = conf_mat1[0][0]\n",
        "false_positive1 = conf_mat1[0][1]\n",
        "false_negative1= conf_mat1[1][0]\n",
        "false_negative1 = conf_mat1[1][1]\n",
        "\n",
        "auc1 = roc_auc_score(y1_test,y1_pred)\n",
        "auc1"
      ],
      "execution_count": 181,
      "outputs": [
        {
          "output_type": "execute_result",
          "data": {
            "text/plain": [
              "0.6676887415275374"
            ]
          },
          "metadata": {},
          "execution_count": 181
        }
      ]
    },
    {
      "cell_type": "markdown",
      "metadata": {
        "id": "Ef9X0MJ67k0O"
      },
      "source": [
        "The auc score of knn is 66%"
      ]
    },
    {
      "cell_type": "code",
      "metadata": {
        "colab": {
          "base_uri": "https://localhost:8080/"
        },
        "id": "Ok3527i6r_Vw",
        "outputId": "76b4a710-52a3-4243-a02f-6939a840321a"
      },
      "source": [
        "\n",
        "fpr1, tpr1, threshholds1 = roc_curve(y1_test, y1_pred)\n",
        "\n",
        "print(fpr1)\n",
        "print(tpr1)\n",
        "print(threshholds1)"
      ],
      "execution_count": 182,
      "outputs": [
        {
          "output_type": "stream",
          "name": "stdout",
          "text": [
            "[0.         0.49710983 1.        ]\n",
            "[0.         0.83248731 1.        ]\n",
            "[2 1 0]\n"
          ]
        }
      ]
    },
    {
      "cell_type": "markdown",
      "metadata": {
        "id": "KBsKa7rj7qUU"
      },
      "source": [
        "fpr, tpr and threshhold of knn"
      ]
    },
    {
      "cell_type": "code",
      "metadata": {
        "colab": {
          "base_uri": "https://localhost:8080/",
          "height": 294
        },
        "id": "oGRYmPgVsCXH",
        "outputId": "b5c362b7-33e1-441c-bb98-c0a225f01c24"
      },
      "source": [
        "plt.plot(fpr1, tpr1, color = 'orange', label = 'ROC1')\n",
        "\n",
        "plt.plot([0,1],[0,1],color = 'darkblue', linestyle = '--', label = 'ROC1 CURVE(area = %0.3f'%auc1)\n",
        "\n",
        "plt.xlabel('False Positive Rate')\n",
        "plt.ylabel('True Positive Rate')\n",
        "\n",
        "plt.title('Receiver Operating Characteristic(ROC1) CURVE')\n",
        "\n",
        "plt.legend()\n",
        "\n",
        "plt.show()"
      ],
      "execution_count": 183,
      "outputs": [
        {
          "output_type": "display_data",
          "data": {
            "image/png": "[encoded data removed]",
            "text/plain": [
              "<Figure size 432x288 with 1 Axes>"
            ]
          },
          "metadata": {
            "needs_background": "light"
          }
        }
      ]
    },
    {
      "cell_type": "markdown",
      "metadata": {
        "id": "n2lS8mNM7t1m"
      },
      "source": [
        "roc curve of knn"
      ]
    },
    {
      "cell_type": "code",
      "metadata": {
        "colab": {
          "base_uri": "https://localhost:8080/"
        },
        "id": "lgg14GKksFWL",
        "outputId": "c591815b-fdd8-420f-e0eb-22f17d6a92c4"
      },
      "source": [
        "X2_train, X2_test, y2_train, y2_test = train_test_split(\n",
        "    x1, y, test_size=0.25, random_state=50)\n",
        "\n",
        "rf = RandomForestClassifier()\n",
        "rf.fit(X2_train,y2_train)\n",
        "\n",
        "y2_pred = rf.predict(X2_test)\n",
        "conf_mat2 = confusion_matrix(y2_test,y2_pred)\n",
        "conf_mat2"
      ],
      "execution_count": 184,
      "outputs": [
        {
          "output_type": "execute_result",
          "data": {
            "text/plain": [
              "array([[153,  20],\n",
              "       [ 35, 162]])"
            ]
          },
          "metadata": {},
          "execution_count": 184
        }
      ]
    },
    {
      "cell_type": "markdown",
      "metadata": {
        "id": "K904cVdu7wmP"
      },
      "source": [
        "confusion matrix of rf"
      ]
    },
    {
      "cell_type": "code",
      "metadata": {
        "colab": {
          "base_uri": "https://localhost:8080/"
        },
        "id": "7IJmpRRzsLZF",
        "outputId": "c0399f97-9b91-47b5-9319-8b710b47646d"
      },
      "source": [
        "true_positive2 = conf_mat2[0][0]\n",
        "false_positive2 = conf_mat2[0][1]\n",
        "false_negative2 = conf_mat2[1][0]\n",
        "false_negative2 = conf_mat2[1][1]\n",
        "\n",
        "auc2 = roc_auc_score(y2_test,y2_pred)\n",
        "auc2"
      ],
      "execution_count": 185,
      "outputs": [
        {
          "output_type": "execute_result",
          "data": {
            "text/plain": [
              "0.8533640444822629"
            ]
          },
          "metadata": {},
          "execution_count": 185
        }
      ]
    },
    {
      "cell_type": "markdown",
      "metadata": {
        "id": "PCxGvtAT7zYg"
      },
      "source": [
        "auc score of rf is 85%"
      ]
    },
    {
      "cell_type": "code",
      "metadata": {
        "colab": {
          "base_uri": "https://localhost:8080/"
        },
        "id": "XkpliHRcsN8G",
        "outputId": "84e68044-67b3-42ca-d1de-deefd49884c6"
      },
      "source": [
        "fpr2, tpr2, threshholds2 = roc_curve(y2_test, y2_pred)\n",
        "\n",
        "print(fpr2)\n",
        "print(tpr2)\n",
        "print(threshholds2)"
      ],
      "execution_count": 186,
      "outputs": [
        {
          "output_type": "stream",
          "name": "stdout",
          "text": [
            "[0.         0.11560694 1.        ]\n",
            "[0.         0.82233503 1.        ]\n",
            "[2 1 0]\n"
          ]
        }
      ]
    },
    {
      "cell_type": "markdown",
      "metadata": {
        "id": "cvCMgqmK72gv"
      },
      "source": [
        "fpr, tpr and threshhold of rf"
      ]
    },
    {
      "cell_type": "code",
      "metadata": {
        "colab": {
          "base_uri": "https://localhost:8080/",
          "height": 294
        },
        "id": "yH02fdU3sQoX",
        "outputId": "be1a80f2-77bf-4187-d695-fc0c87446820"
      },
      "source": [
        "plt.plot(fpr2, tpr2, color = 'orange', label = 'ROC2')\n",
        "\n",
        "plt.plot([0,1],[0,1],color = 'darkblue', linestyle = '--', label = 'ROC2 CURVE(area = %0.3f'%auc2)\n",
        "\n",
        "plt.xlabel('False Positive Rate')\n",
        "plt.ylabel('True Positive Rate')\n",
        "\n",
        "plt.title('Receiver Operating Characteristic(ROC2) CURVE')\n",
        "\n",
        "plt.legend()\n",
        "\n",
        "plt.show()"
      ],
      "execution_count": 187,
      "outputs": [
        {
          "output_type": "display_data",
          "data": {
            "image/png": "[encoded data removed]",
            "text/plain": [
              "<Figure size 432x288 with 1 Axes>"
            ]
          },
          "metadata": {
            "needs_background": "light"
          }
        }
      ]
    },
    {
      "cell_type": "markdown",
      "metadata": {
        "id": "7R4VXIbu76R5"
      },
      "source": [
        "roc curve of rf"
      ]
    },
    {
      "cell_type": "code",
      "metadata": {
        "colab": {
          "base_uri": "https://localhost:8080/"
        },
        "id": "l6ibWP-wsTSO",
        "outputId": "a0743371-8cc6-4a64-fca8-7ab620e13d05"
      },
      "source": [
        "X3_train, X3_test, y3_train, y3_test = train_test_split(\n",
        "    x1, y, test_size=0.25, random_state=50)\n",
        "\n",
        "dtc = DecisionTreeClassifier()\n",
        "dtc.fit(X3_train,y3_train)\n",
        "\n",
        "y3_pred = dtc.predict(X3_test)\n",
        "conf_mat3 = confusion_matrix(y3_test,y3_pred)\n",
        "conf_mat3"
      ],
      "execution_count": 188,
      "outputs": [
        {
          "output_type": "execute_result",
          "data": {
            "text/plain": [
              "array([[142,  31],\n",
              "       [ 30, 167]])"
            ]
          },
          "metadata": {},
          "execution_count": 188
        }
      ]
    },
    {
      "cell_type": "markdown",
      "metadata": {
        "id": "bRNpHso87-Dx"
      },
      "source": [
        "confusion matrix of dtc"
      ]
    },
    {
      "cell_type": "code",
      "metadata": {
        "colab": {
          "base_uri": "https://localhost:8080/"
        },
        "id": "kzfm1HjFsV7n",
        "outputId": "ed92980c-4240-40c7-d6c6-0cb00bce5b00"
      },
      "source": [
        "true_positive3 = conf_mat3[0][0]\n",
        "false_positive3 = conf_mat3[0][1]\n",
        "false_negative3 = conf_mat3[1][0]\n",
        "false_negative3 = conf_mat3[1][1]\n",
        "\n",
        "auc3 = roc_auc_score(y3_test,y3_pred)\n",
        "auc3"
      ],
      "execution_count": 189,
      "outputs": [
        {
          "output_type": "execute_result",
          "data": {
            "text/plain": [
              "0.8342624922977613"
            ]
          },
          "metadata": {},
          "execution_count": 189
        }
      ]
    },
    {
      "cell_type": "markdown",
      "metadata": {
        "id": "620NuBmK8B-c"
      },
      "source": [
        "auc score of dtc is 83%"
      ]
    },
    {
      "cell_type": "code",
      "metadata": {
        "colab": {
          "base_uri": "https://localhost:8080/"
        },
        "id": "j7BJc9O5sYfL",
        "outputId": "02d40ce9-9a0b-4a8b-da79-49292de87c27"
      },
      "source": [
        "fpr3, tpr3, threshholds3 = roc_curve(y3_test, y3_pred)\n",
        "\n",
        "print(fpr3)\n",
        "print(tpr3)\n",
        "print(threshholds3)"
      ],
      "execution_count": 190,
      "outputs": [
        {
          "output_type": "stream",
          "name": "stdout",
          "text": [
            "[0.         0.17919075 1.        ]\n",
            "[0.         0.84771574 1.        ]\n",
            "[2 1 0]\n"
          ]
        }
      ]
    },
    {
      "cell_type": "markdown",
      "metadata": {
        "id": "ipCS-SND8H28"
      },
      "source": [
        "fpr, tpr, threshhold of dtc"
      ]
    },
    {
      "cell_type": "code",
      "metadata": {
        "colab": {
          "base_uri": "https://localhost:8080/",
          "height": 294
        },
        "id": "l1TPXvk1sagZ",
        "outputId": "02905565-6e14-4d92-9bfe-a3d3d60ddfd9"
      },
      "source": [
        "plt.plot(fpr3, tpr3, color = 'orange', label = 'ROC3')\n",
        "\n",
        "plt.plot([0,1],[0,1],color = 'darkblue', linestyle = '--', label = 'ROC3 CURVE(area = %0.3f'%auc3)\n",
        "\n",
        "plt.xlabel('False Positive Rate')\n",
        "plt.ylabel('True Positive Rate')\n",
        "\n",
        "plt.title('Receiver Operating Characteristic(ROC3) CURVE')\n",
        "\n",
        "plt.legend()\n",
        "\n",
        "plt.show()"
      ],
      "execution_count": 191,
      "outputs": [
        {
          "output_type": "display_data",
          "data": {
            "image/png": "[encoded data removed]",
            "text/plain": [
              "<Figure size 432x288 with 1 Axes>"
            ]
          },
          "metadata": {
            "needs_background": "light"
          }
        }
      ]
    },
    {
      "cell_type": "markdown",
      "metadata": {
        "id": "Y99KCvmi8Onc"
      },
      "source": [
        "roc curve of dtc"
      ]
    },
    {
      "cell_type": "code",
      "metadata": {
        "colab": {
          "base_uri": "https://localhost:8080/"
        },
        "id": "3RfpoeS6seKd",
        "outputId": "8c0660d4-0771-4184-b904-01073f70841d"
      },
      "source": [
        "X4_train, X4_test, y4_train, y4_test = train_test_split(\n",
        "    x1, y, test_size=0.25, random_state=50)\n",
        "\n",
        "gb = GradientBoostingClassifier()\n",
        "gb.fit(X4_train,y4_train)\n",
        "\n",
        "y4_pred = gb.predict(X4_test)\n",
        "conf_mat4 = confusion_matrix(y4_test,y4_pred)\n",
        "conf_mat4"
      ],
      "execution_count": 192,
      "outputs": [
        {
          "output_type": "execute_result",
          "data": {
            "text/plain": [
              "array([[148,  25],\n",
              "       [ 28, 169]])"
            ]
          },
          "metadata": {},
          "execution_count": 192
        }
      ]
    },
    {
      "cell_type": "markdown",
      "metadata": {
        "id": "czzbl5qp8R-v"
      },
      "source": [
        "confusion matrix of gb"
      ]
    },
    {
      "cell_type": "code",
      "metadata": {
        "colab": {
          "base_uri": "https://localhost:8080/"
        },
        "id": "0WSDZcwmshbl",
        "outputId": "8e76c9e8-643e-481c-e472-4cb841b982e5"
      },
      "source": [
        "true_positive4 = conf_mat4[0][0]\n",
        "false_positive4 = conf_mat4[0][1]\n",
        "false_negative4 = conf_mat4[1][0]\n",
        "false_negative4 = conf_mat4[1][1]\n",
        "\n",
        "auc4 = roc_auc_score(y4_test,y4_pred)\n",
        "auc4"
      ],
      "execution_count": 193,
      "outputs": [
        {
          "output_type": "execute_result",
          "data": {
            "text/plain": [
              "0.8566796748921687"
            ]
          },
          "metadata": {},
          "execution_count": 193
        }
      ]
    },
    {
      "cell_type": "markdown",
      "metadata": {
        "id": "9XfAzUdS8XOa"
      },
      "source": [
        "auc score of gb"
      ]
    },
    {
      "cell_type": "code",
      "metadata": {
        "colab": {
          "base_uri": "https://localhost:8080/"
        },
        "id": "MhNE9G1SskgN",
        "outputId": "6cbd07c2-33e3-4a7c-fbb8-6d676e2daf89"
      },
      "source": [
        "fpr4, tpr4, threshholds4 = roc_curve(y4_test, y4_pred)\n",
        "\n",
        "print(fpr4)\n",
        "print(tpr4)\n",
        "print(threshholds4)\n"
      ],
      "execution_count": 194,
      "outputs": [
        {
          "output_type": "stream",
          "name": "stdout",
          "text": [
            "[0.         0.14450867 1.        ]\n",
            "[0.         0.85786802 1.        ]\n",
            "[2 1 0]\n"
          ]
        }
      ]
    },
    {
      "cell_type": "markdown",
      "metadata": {
        "id": "YgmDbL4B8Zit"
      },
      "source": [
        "fpr, tpr, threshhold of gb"
      ]
    },
    {
      "cell_type": "code",
      "metadata": {
        "colab": {
          "base_uri": "https://localhost:8080/",
          "height": 294
        },
        "id": "7asdCjl8snAa",
        "outputId": "b47a684f-edd9-4af9-9426-da5c1a41f47e"
      },
      "source": [
        "plt.plot(fpr4, tpr4, color = 'orange', label = 'ROC4')\n",
        "\n",
        "plt.plot([0,1],[0,1],color = 'darkblue', linestyle = '--', label = 'ROC4 CURVE(area = %0.3f'%auc4)\n",
        "\n",
        "plt.xlabel('False Positive Rate')\n",
        "plt.ylabel('True Positive Rate')\n",
        "\n",
        "plt.title('Receiver Operating Characteristic(ROC4) CURVE')\n",
        "\n",
        "plt.legend()\n",
        "\n",
        "plt.show()"
      ],
      "execution_count": 195,
      "outputs": [
        {
          "output_type": "display_data",
          "data": {
            "image/png": "[encoded data removed]",
            "text/plain": [
              "<Figure size 432x288 with 1 Axes>"
            ]
          },
          "metadata": {
            "needs_background": "light"
          }
        }
      ]
    },
    {
      "cell_type": "markdown",
      "metadata": {
        "id": "Jbk3s2iX8efx"
      },
      "source": [
        "roc curve of gb"
      ]
    },
    {
      "cell_type": "code",
      "metadata": {
        "colab": {
          "base_uri": "https://localhost:8080/",
          "height": 171
        },
        "id": "IVKl3Lpgso5u",
        "outputId": "dbe349e1-39f7-42da-b8a7-4deb73e2d2d8"
      },
      "source": [
        "#Now, let's apply cross validation \n",
        "\n",
        "from sklearn.model_selection import KFold, cross_val_score,GridSearchCV\n",
        "\n",
        "X_train, X_test, y_train, y_test = train_test_split(\n",
        "    x1, y, test_size=0.25, random_state=42)\n",
        "models = [KNeighborsClassifier(), RandomForestClassifier(),\n",
        "          DecisionTreeClassifier(), GradientBoostingClassifier()]\n",
        "model_names = ['KNearestNeighbors', 'RandomForestClassifier', 'DecisionTree',\n",
        "               'GradientBoostingClassifier']\n",
        "\n",
        "\n",
        "k_f = KFold(n_splits = 4, shuffle = True)\n",
        "k_f\n",
        "\n",
        "CV_S = []\n",
        "\n",
        "for model in range(len(models)):\n",
        "    clf = models[model]\n",
        "    c = clf.fit(X_train, y_train)\n",
        "    pred = clf.predict(X_test)\n",
        "    CV_S.append(cross_val_score(c, x1, y, cv = 5).mean())\n",
        "    \n",
        "\n",
        "CV = {'Modelling Algorithm': model_names, 'CV SCORE': CV_S}\n",
        "CV_df = pd.DataFrame(CV)\n",
        "CV_df"
      ],
      "execution_count": 197,
      "outputs": [
        {
          "output_type": "execute_result",
          "data": {
            "text/html": [
              "<div>\n",
              "<style scoped>\n",
              "    .dataframe tbody tr th:only-of-type {\n",
              "        vertical-align: middle;\n",
              "    }\n",
              "\n",
              "    .dataframe tbody tr th {\n",
              "        vertical-align: top;\n",
              "    }\n",
              "\n",
              "    .dataframe thead th {\n",
              "        text-align: right;\n",
              "    }\n",
              "</style>\n",
              "<table border=\"1\" class=\"dataframe\">\n",
              "  <thead>\n",
              "    <tr style=\"text-align: right;\">\n",
              "      <th></th>\n",
              "      <th>Modelling Algorithm</th>\n",
              "      <th>CV SCORE</th>\n",
              "    </tr>\n",
              "  </thead>\n",
              "  <tbody>\n",
              "    <tr>\n",
              "      <th>0</th>\n",
              "      <td>KNearestNeighbors</td>\n",
              "      <td>0.691216</td>\n",
              "    </tr>\n",
              "    <tr>\n",
              "      <th>1</th>\n",
              "      <td>RandomForestClassifier</td>\n",
              "      <td>0.860811</td>\n",
              "    </tr>\n",
              "    <tr>\n",
              "      <th>2</th>\n",
              "      <td>DecisionTree</td>\n",
              "      <td>0.831757</td>\n",
              "    </tr>\n",
              "    <tr>\n",
              "      <th>3</th>\n",
              "      <td>GradientBoostingClassifier</td>\n",
              "      <td>0.862162</td>\n",
              "    </tr>\n",
              "  </tbody>\n",
              "</table>\n",
              "</div>"
            ],
            "text/plain": [
              "          Modelling Algorithm  CV SCORE\n",
              "0           KNearestNeighbors  0.691216\n",
              "1      RandomForestClassifier  0.860811\n",
              "2                DecisionTree  0.831757\n",
              "3  GradientBoostingClassifier  0.862162"
            ]
          },
          "metadata": {},
          "execution_count": 197
        }
      ]
    },
    {
      "cell_type": "markdown",
      "metadata": {
        "id": "y4h1c4-K8oAu"
      },
      "source": [
        "applied cross validation "
      ]
    },
    {
      "cell_type": "code",
      "metadata": {
        "colab": {
          "base_uri": "https://localhost:8080/",
          "height": 171
        },
        "id": "14_WtPbCsuSi",
        "outputId": "1465cfa2-c09f-44ee-90cf-7358ba02d494"
      },
      "source": [
        "#Comparing CV Score and the Accuracy score:\n",
        "\n",
        "Comparison = pd.DataFrame({})\n",
        "Comparison['Modelling Algorithm'] =  model_names\n",
        "Comparison['ACCURACY'] = acc\n",
        "Comparison['CV SCORE'] = CV_S\n",
        "Comparison['Difference'] = [acc[0] - CV_S[0], acc[1] - CV_S[1], acc[2] - CV_S[2], acc[3] - CV_S[3]]\n",
        "Comparison"
      ],
      "execution_count": 198,
      "outputs": [
        {
          "output_type": "execute_result",
          "data": {
            "text/html": [
              "<div>\n",
              "<style scoped>\n",
              "    .dataframe tbody tr th:only-of-type {\n",
              "        vertical-align: middle;\n",
              "    }\n",
              "\n",
              "    .dataframe tbody tr th {\n",
              "        vertical-align: top;\n",
              "    }\n",
              "\n",
              "    .dataframe thead th {\n",
              "        text-align: right;\n",
              "    }\n",
              "</style>\n",
              "<table border=\"1\" class=\"dataframe\">\n",
              "  <thead>\n",
              "    <tr style=\"text-align: right;\">\n",
              "      <th></th>\n",
              "      <th>Modelling Algorithm</th>\n",
              "      <th>ACCURACY</th>\n",
              "      <th>CV SCORE</th>\n",
              "      <th>Difference</th>\n",
              "    </tr>\n",
              "  </thead>\n",
              "  <tbody>\n",
              "    <tr>\n",
              "      <th>0</th>\n",
              "      <td>KNearestNeighbors</td>\n",
              "      <td>0.745946</td>\n",
              "      <td>0.691216</td>\n",
              "      <td>0.054730</td>\n",
              "    </tr>\n",
              "    <tr>\n",
              "      <th>1</th>\n",
              "      <td>RandomForestClassifier</td>\n",
              "      <td>0.886486</td>\n",
              "      <td>0.860811</td>\n",
              "      <td>0.025676</td>\n",
              "    </tr>\n",
              "    <tr>\n",
              "      <th>2</th>\n",
              "      <td>DecisionTree</td>\n",
              "      <td>0.824324</td>\n",
              "      <td>0.831757</td>\n",
              "      <td>-0.007432</td>\n",
              "    </tr>\n",
              "    <tr>\n",
              "      <th>3</th>\n",
              "      <td>GradientBoostingClassifier</td>\n",
              "      <td>0.894595</td>\n",
              "      <td>0.862162</td>\n",
              "      <td>0.032432</td>\n",
              "    </tr>\n",
              "  </tbody>\n",
              "</table>\n",
              "</div>"
            ],
            "text/plain": [
              "          Modelling Algorithm  ACCURACY  CV SCORE  Difference\n",
              "0           KNearestNeighbors  0.745946  0.691216    0.054730\n",
              "1      RandomForestClassifier  0.886486  0.860811    0.025676\n",
              "2                DecisionTree  0.824324  0.831757   -0.007432\n",
              "3  GradientBoostingClassifier  0.894595  0.862162    0.032432"
            ]
          },
          "metadata": {},
          "execution_count": 198
        }
      ]
    },
    {
      "cell_type": "markdown",
      "metadata": {
        "id": "twAdhc6d8rM-"
      },
      "source": [
        "The difference between the two is mimimum for the random forest classifier"
      ]
    },
    {
      "cell_type": "code",
      "metadata": {
        "id": "hAXHksCws6wr"
      },
      "source": [
        "#HYPERPARAMETER TUNING:\n",
        "\n",
        "grid_param = {\n",
        "    'n_estimators' : range(80,160,20),\n",
        "    'criterion' : ['gini', 'entropy'],\n",
        "    'max_depth' : range(1,5),\n",
        "    'min_samples_split' : range(0,10,2)\n",
        "}"
      ],
      "execution_count": 199,
      "outputs": []
    },
    {
      "cell_type": "markdown",
      "metadata": {
        "id": "56OtoK7X8yob"
      },
      "source": [
        "Applied hyperparameter tuning"
      ]
    },
    {
      "cell_type": "code",
      "metadata": {
        "id": "qSWlGxXwtkZG"
      },
      "source": [
        "grid = GridSearchCV(rf, param_grid = grid_param)"
      ],
      "execution_count": 200,
      "outputs": []
    },
    {
      "cell_type": "markdown",
      "metadata": {
        "id": "3DxvURpR83D-"
      },
      "source": [
        "applied grid search CV"
      ]
    },
    {
      "cell_type": "code",
      "metadata": {
        "colab": {
          "base_uri": "https://localhost:8080/"
        },
        "id": "TImTRr3ytqzq",
        "outputId": "8b7792ce-b512-4a2e-f4cd-5c153f329b90"
      },
      "source": [
        "grid.fit(X_train, y_train)"
      ],
      "execution_count": 201,
      "outputs": [
        {
          "output_type": "execute_result",
          "data": {
            "text/plain": [
              "GridSearchCV(cv=None, error_score=nan,\n",
              "             estimator=RandomForestClassifier(bootstrap=True, ccp_alpha=0.0,\n",
              "                                              class_weight=None,\n",
              "                                              criterion='gini', max_depth=None,\n",
              "                                              max_features='auto',\n",
              "                                              max_leaf_nodes=None,\n",
              "                                              max_samples=None,\n",
              "                                              min_impurity_decrease=0.0,\n",
              "                                              min_impurity_split=None,\n",
              "                                              min_samples_leaf=1,\n",
              "                                              min_samples_split=2,\n",
              "                                              min_weight_fraction_leaf=0.0,\n",
              "                                              n_estimators=100, n_jobs=None,\n",
              "                                              oob_score=False,\n",
              "                                              random_state=None, verbose=0,\n",
              "                                              warm_start=False),\n",
              "             iid='deprecated', n_jobs=None,\n",
              "             param_grid={'criterion': ['gini', 'entropy'],\n",
              "                         'max_depth': range(1, 5),\n",
              "                         'min_samples_split': range(0, 10, 2),\n",
              "                         'n_estimators': range(80, 160, 20)},\n",
              "             pre_dispatch='2*n_jobs', refit=True, return_train_score=False,\n",
              "             scoring=None, verbose=0)"
            ]
          },
          "metadata": {},
          "execution_count": 201
        }
      ]
    },
    {
      "cell_type": "markdown",
      "metadata": {
        "id": "jx0o2mBs85wJ"
      },
      "source": [
        "Trained the model"
      ]
    },
    {
      "cell_type": "code",
      "metadata": {
        "colab": {
          "base_uri": "https://localhost:8080/"
        },
        "id": "n9ECm3vUuxeg",
        "outputId": "d0607e0e-6f71-4a06-bdec-c67bed4b77bc"
      },
      "source": [
        "best_parameters = grid.best_params_\n",
        "print(best_parameters)"
      ],
      "execution_count": 202,
      "outputs": [
        {
          "output_type": "stream",
          "name": "stdout",
          "text": [
            "{'criterion': 'gini', 'max_depth': 4, 'min_samples_split': 6, 'n_estimators': 140}\n"
          ]
        }
      ]
    },
    {
      "cell_type": "markdown",
      "metadata": {
        "id": "nN55mMNg88W7"
      },
      "source": [
        "received the best parameters"
      ]
    },
    {
      "cell_type": "code",
      "metadata": {
        "colab": {
          "base_uri": "https://localhost:8080/"
        },
        "id": "ef8etDr3tqqg",
        "outputId": "84e46892-1b36-4255-9687-94b5895c62da"
      },
      "source": [
        "#FINAL MODEL\n",
        "#Substituting the best parameters in the KNeighborsClassifier:\n",
        "\n",
        "rf = RandomForestClassifier(criterion = 'gini', max_depth = 4, min_samples_split = 6, n_estimators = 140)\n",
        "\n",
        "rf.fit(X_train, y_train)\n",
        "rf.score(X_test,y_test)"
      ],
      "execution_count": 203,
      "outputs": [
        {
          "output_type": "execute_result",
          "data": {
            "text/plain": [
              "0.8540540540540541"
            ]
          },
          "metadata": {},
          "execution_count": 203
        }
      ]
    },
    {
      "cell_type": "markdown",
      "metadata": {
        "id": "CjU2fsvv9CN1"
      },
      "source": [
        "After substituting the best parameters, the score is 85%"
      ]
    },
    {
      "cell_type": "code",
      "metadata": {
        "colab": {
          "base_uri": "https://localhost:8080/"
        },
        "id": "ChNbCsRdvO1f",
        "outputId": "38d36da2-03b7-4184-a43f-bec74090111a"
      },
      "source": [
        "#SAVING THE MODEL:\n",
        "\n",
        "import joblib\n",
        "joblib.dump(rf, 'insurance_claims_final_model.pkl')"
      ],
      "execution_count": 204,
      "outputs": [
        {
          "output_type": "execute_result",
          "data": {
            "text/plain": [
              "['insurance_claims_final_model.pkl']"
            ]
          },
          "metadata": {},
          "execution_count": 204
        }
      ]
    },
    {
      "cell_type": "markdown",
      "metadata": {
        "id": "nSfCkuK_9OQE"
      },
      "source": [
        "Saved the model"
      ]
    }
  ]
}